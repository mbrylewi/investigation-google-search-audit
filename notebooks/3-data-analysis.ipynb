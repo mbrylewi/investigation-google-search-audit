{
 "cells": [
  {
   "cell_type": "markdown",
   "metadata": {},
   "source": [
    "# Data Analysis\n",
    "\n",
    "This notebook analyses the results of the element categorization and area calculation from the last two notebooks. The bulk of findings in our methodlogy paper are found here:"
   ]
  },
  {
   "cell_type": "code",
   "execution_count": 1,
   "metadata": {},
   "outputs": [],
   "source": [
    "%load_ext autoreload\n",
    "%autoreload 2\n",
    "%matplotlib inline"
   ]
  },
  {
   "cell_type": "code",
   "execution_count": 2,
   "metadata": {},
   "outputs": [
    {
     "data": {
      "application/javascript": [
       "MathJax.Hub.Config({\n",
       "    TeX: { equationNumbers: { autoNumber: \"AMS\" } }\n",
       "});\n"
      ],
      "text/plain": [
       "<IPython.core.display.Javascript object>"
      ]
     },
     "metadata": {},
     "output_type": "display_data"
    }
   ],
   "source": [
    "%%javascript\n",
    "MathJax.Hub.Config({\n",
    "    TeX: { equationNumbers: { autoNumber: \"AMS\" } }\n",
    "});"
   ]
  },
  {
   "cell_type": "code",
   "execution_count": 3,
   "metadata": {},
   "outputs": [],
   "source": [
    "import os\n",
    "import sys\n",
    "import json\n",
    "import time\n",
    "import glob\n",
    "import tempfile\n",
    "import warnings\n",
    "import inspect\n",
    "from typing import Dict, List\n",
    "from collections import Counter\n",
    "from multiprocessing import Pool\n",
    "warnings.filterwarnings('ignore')\n",
    "\n",
    "import numpy as np\n",
    "import pandas as pd\n",
    "from scipy.stats import t\n",
    "import matplotlib.pyplot as plt\n",
    "from matplotlib.patches import Patch\n",
    "from matplotlib.lines import Line2D\n",
    "import matplotlib.ticker as ticker\n",
    "from bs4 import BeautifulSoup\n",
    "from tqdm import tqdm\n",
    "from IPython.display import display\n",
    "\n",
    "sys.path.append(\"..\")\n",
    "from utils.config import (\n",
    "    google_domains,\n",
    "    cat2color\n",
    ")"
   ]
  },
  {
   "cell_type": "code",
   "execution_count": 4,
   "metadata": {},
   "outputs": [],
   "source": [
    "# variables\n",
    "use_full_dataset = False\n",
    "data_dir = '../data' if use_full_dataset else '../data_subsample'"
   ]
  },
  {
   "cell_type": "code",
   "execution_count": 5,
   "metadata": {},
   "outputs": [],
   "source": [
    "# input\n",
    "fn_metadata = f'{data_dir}/intermediary/element_metadata.jsonl.gz'\n",
    "\n",
    "# output\n",
    "output_dir = f'{data_dir}/output'\n",
    "tables_dir = os.path.join(output_dir, 'tables/')\n",
    "figure_dir = os.path.join(output_dir, 'figures/')\n",
    "appendix_dir = os.path.join(output_dir, 'appendix/')\n",
    "\n",
    "for d in [tables_dir, figure_dir, appendix_dir]:\n",
    "    os.makedirs(d, exist_ok=True)"
   ]
  },
  {
   "cell_type": "code",
   "execution_count": 6,
   "metadata": {},
   "outputs": [],
   "source": [
    "df = pd.read_json(fn_metadata, \n",
    "                  lines=True, \n",
    "                  compression='gzip')"
   ]
  },
  {
   "cell_type": "code",
   "execution_count": 7,
   "metadata": {},
   "outputs": [
    {
     "data": {
      "text/plain": [
       "{'text': 'Products',\n",
       " 'link': None,\n",
       " 'domain': 'google.com',\n",
       " 'xpath': '/html/body/div[10]/div/div[6]/div/div[3]/div/div[6]/div/g-tabs/div/div[1]/a[2]',\n",
       " 'category': 'link-knowledge_panel_tab',\n",
       " 'tag': 'a',\n",
       " 'attrs': {'jsname': 'AznF2e',\n",
       "  'class': ['KYeOtb', 'ih2ainT7gdI__unselected', 'M51USb'],\n",
       "  'aria-selected': 'false',\n",
       "  'data-index': '1',\n",
       "  'style': 'height:48px;color:#5F6368;border-color:#6E7275;padding:0 16px',\n",
       "  'tabindex': '-1',\n",
       "  'role': 'tab',\n",
       "  'jsaction': 'h5M12e'},\n",
       " 'dimensions': {'height': 48.0, 'width': 174.9499969482},\n",
       " 'location': {'x': 180, 'y': 1905},\n",
       " 'area_page': 8397.5998535136,\n",
       " 'fn_input': '../data/input/google_search/iPhone-X/2019/12/08/Tenda/html/webpage_raw.html',\n",
       " 'position_last_element': 5162,\n",
       " 'fn_metadata': '../data_subsample/intermediary/google_search/iPhone-X/2019/12/08/Tenda/json/parsed_meta.jsonl',\n",
       " 'q1_area': 0.0,\n",
       " 'q2_area': 0.0,\n",
       " 'q3_area': 0.0,\n",
       " 'q4_area': 0.0,\n",
       " 'q5_area': 0.0,\n",
       " 'q6_area': 0.0,\n",
       " 'q7_area': 0.0,\n",
       " 'q8_area': 0.0,\n",
       " 'q9_area': 0.0,\n",
       " 'q10_area': 0.0,\n",
       " 'q11_area': 0.0,\n",
       " 'q12_area': 0.0,\n",
       " 'q13_area': 0.0,\n",
       " 'q14_area': 0.0,\n",
       " 'q15_area': 0.0,\n",
       " 'q16_area': 0.0,\n",
       " 'q17_area': 0.0,\n",
       " 'q18_area': 8397.5998535136,\n",
       " 'q19_area': 0.0,\n",
       " 'q20_area': 0.0,\n",
       " 'q21_area': 0.0,\n",
       " 'q22_area': 0.0,\n",
       " 'q23_area': 0.0,\n",
       " 'q24_area': 0.0,\n",
       " 'q25_area': 0.0,\n",
       " 'q26_area': 0.0,\n",
       " 'q27_area': 0.0,\n",
       " 'q28_area': 0.0,\n",
       " 'q29_area': 0.0,\n",
       " 'q30_area': 0.0,\n",
       " 'q31_area': 0.0,\n",
       " 'q32_area': 0.0,\n",
       " 'q33_area': 0.0,\n",
       " 'q34_area': 0.0,\n",
       " 'q35_area': 0.0,\n",
       " 'q36_area': 0.0,\n",
       " 'q37_area': 0.0,\n",
       " 'q38_area': 0.0,\n",
       " 'q39_area': 0.0,\n",
       " 'q40_area': 0.0,\n",
       " 'q41_area': 0.0,\n",
       " 'q42_area': 0.0,\n",
       " 'q43_area': 0.0,\n",
       " 'q44_area': 0.0,\n",
       " 'q45_area': 0.0,\n",
       " 'q46_area': 0.0,\n",
       " 'q47_area': 0.0,\n",
       " 'q48_area': 0.0,\n",
       " 'q49_area': 0.0,\n",
       " 'q50_area': 0.0,\n",
       " 'area_above_the_fold': 0.0,\n",
       " 'label': 'link',\n",
       " 'category_standard': 'google-knowledge-panel-links',\n",
       " 'date_parsed': '2020-07-08',\n",
       " 'date_collected': '2019-12-08'}"
      ]
     },
     "execution_count": 7,
     "metadata": {},
     "output_type": "execute_result"
    }
   ],
   "source": [
    "# recall a record looks like this\n",
    "df.sample(1).iloc[-1].to_dict()"
   ]
  },
  {
   "cell_type": "code",
   "execution_count": 8,
   "metadata": {},
   "outputs": [],
   "source": [
    "total_area = df.area_above_the_fold.sum()\n",
    "total_area_fp = df.area_page.sum()"
   ]
  },
  {
   "cell_type": "code",
   "execution_count": 9,
   "metadata": {},
   "outputs": [],
   "source": [
    "label2publabel = {\n",
    "    'link' : 'Google Product',\n",
    "    'answer' : 'Google Answer',\n",
    "    'organic' : 'Non-Google',\n",
    "    'amp' : 'AMP',\n",
    "    'ads' : 'Ads'\n",
    "}"
   ]
  },
  {
   "cell_type": "markdown",
   "metadata": {},
   "source": [
    "\\begin{equation}\n",
    "X_{g} = \\frac{g}{g + ng + amp + ad}\n",
    "\\end{equation}\n",
    "\n",
    "\n",
    "\n",
    "Where <br>\n",
    "&nbsp;&nbsp;&nbsp;&nbsp; $X_{g}$: is the percentage of real estate that occupied by Google.<br>\n",
    "&nbsp;&nbsp;&nbsp;&nbsp; $g$: is the sum of real estate pixels occupied by Google products and answers.<br>\n",
    "&nbsp;&nbsp;&nbsp;&nbsp; $ng$: is the sum of real estate pixels occupied by Non-Google.<br>\n",
    "&nbsp;&nbsp;&nbsp;&nbsp; $amp$: is the sum of real estate pixels occupied by AMP.<br>\n",
    "&nbsp;&nbsp;&nbsp;&nbsp; $ad$: is the sum of real estate pixels occupied by ads.<br>"
   ]
  },
  {
   "cell_type": "markdown",
   "metadata": {},
   "source": [
    "## Breakdown of area and frequency for each category\n",
    "For a more granular look at how much space is occupied by each search feature:"
   ]
  },
  {
   "cell_type": "code",
   "execution_count": 10,
   "metadata": {},
   "outputs": [],
   "source": [
    "table_cols = [\n",
    "   ('First Screen', 'area'),\n",
    "   ('First Screen' , 'area'),\n",
    "   ('Full page', 'freq'),\n",
    "   ('Full page' , 'area'),\n",
    "]"
   ]
  },
  {
   "cell_type": "code",
   "execution_count": 11,
   "metadata": {},
   "outputs": [],
   "source": [
    "total_area = df.area_above_the_fold.sum()\n",
    "total_area_fp = df.area_page.sum()\n",
    "n_pages = df.fn_input.nunique()"
   ]
  },
  {
   "cell_type": "markdown",
   "metadata": {},
   "source": [
    "## Table 1"
   ]
  },
  {
   "cell_type": "code",
   "execution_count": 12,
   "metadata": {},
   "outputs": [],
   "source": [
    "fn_cats = f'{data_dir}/output/tables/T1_area_freq_by_category.csv'"
   ]
  },
  {
   "cell_type": "code",
   "execution_count": 13,
   "metadata": {},
   "outputs": [
    {
     "name": "stdout",
     "output_type": "stream",
     "text": [
      "               First Screen        Full page        \n",
      "                       area   area      freq    area\n",
      "Google Answer         25.1%  70.8%     13.4%   98.8%\n",
      "Google Product        37.0%  93.8%     27.2%  100.0%\n",
      "Non-Google            20.1%  80.0%     45.9%  100.0%\n",
      "AMP                   11.6%  21.2%     12.6%   74.5%\n",
      "Ads                    6.3%   8.0%      1.0%    9.2%\n"
     ]
    }
   ],
   "source": [
    "data = {}\n",
    "for label in df.label.unique():\n",
    "    _df = df[df.label == label]\n",
    "    area = (_df['area_above_the_fold'].sum() / total_area)\n",
    "    freq = _df[_df['area_above_the_fold'] != 0].fn_input.nunique() / n_pages\n",
    "    \n",
    "    area_page = (_df['area_page'].sum() / total_area_fp)\n",
    "    freq_page = _df[_df['area_page'] != 0].fn_input.nunique() / n_pages\n",
    "    \n",
    "    data[label2publabel.get(label,label)] = {\n",
    "        ('First Screen', 'area') : area,\n",
    "        ('First Screen', 'freq') : freq,\n",
    "        ('First page', 'area') : area_page,\n",
    "        ('First page', 'freq') : freq_page,\n",
    "    }\n",
    "    \n",
    "cat_breakdown = pd.DataFrame(data).T\n",
    "cat_breakdown.columns = pd.MultiIndex.from_tuples(table_cols)\n",
    "\n",
    "print((cat_breakdown * 100).round(1).astype(str) + '%')"
   ]
  },
  {
   "cell_type": "code",
   "execution_count": 14,
   "metadata": {},
   "outputs": [],
   "source": [
    "cat_breakdown.to_csv(fn_cats)"
   ]
  },
  {
   "cell_type": "code",
   "execution_count": 15,
   "metadata": {},
   "outputs": [],
   "source": [
    "fn_pixels = f'{data_dir}/intermediary/pixels_above_the_fold.csv'\n",
    "fn_pixels_page = f'{data_dir}/intermediary/pixels_page.csv'"
   ]
  },
  {
   "cell_type": "code",
   "execution_count": 16,
   "metadata": {},
   "outputs": [],
   "source": [
    "labels_in_order = [\n",
    "    'organic',\n",
    "    'amp',\n",
    "    'answer',\n",
    "    'link',\n",
    "    'ads'\n",
    "]"
   ]
  },
  {
   "cell_type": "code",
   "execution_count": 17,
   "metadata": {},
   "outputs": [],
   "source": [
    "area_cols = ['area_above_the_fold', 'area_page']"
   ]
  },
  {
   "cell_type": "code",
   "execution_count": 18,
   "metadata": {},
   "outputs": [],
   "source": [
    "if os.path.exists(fn_pixels) and os.path.exists(fn_pixels_page):\n",
    "    df_pixels = pd.read_csv(fn_pixels)\n",
    "    df_pixels_fp = pd.read_csv(fn_pixels_page)\n",
    "    \n",
    "else:\n",
    "    pixels = {c : list() for c in area_cols}\n",
    "    for search, df_ in tqdm(df.groupby('fn_input'), position=0, leave=True):\n",
    "        for col in area_cols:\n",
    "            # get sum of pixels for each label.\n",
    "            ad = df_[df_.label == 'ads'][col].sum()\n",
    "            o = df_[df_.label == 'organic'][col].sum()\n",
    "            g = df_[(df_.label == 'link') | (df_.label == 'answer')][col].sum()\n",
    "            a =  df_[df_.label == 'answer'][col].sum()\n",
    "            amp = df_[df_.label == 'amp'][col].sum()\n",
    "\n",
    "            # equations\n",
    "            e1 =  o / (g + ad + o + amp)\n",
    "            e2 = g / (g + ad + o + amp)\n",
    "\n",
    "            row = {\n",
    "                'search_term' : search,\n",
    "                'ad' : ad,\n",
    "                'ng' : o,\n",
    "                'g' : g,\n",
    "                'a' : a,\n",
    "                'amp' : amp,\n",
    "                'e1' : e1,\n",
    "                'e2' : e2,\n",
    "            }\n",
    "\n",
    "            pixels[col].append(row)\n",
    "\n",
    "    df_pixels = pd.DataFrame(pixels['area_above_the_fold'])\n",
    "    df_pixels_fp = pd.DataFrame(pixels['area_page'])\n",
    "\n",
    "    df_pixels.e1.fillna(0, inplace=True)\n",
    "    df_pixels.e2.fillna(0, inplace=True)\n",
    "    \n",
    "    df_pixels.to_csv(fn_pixels, index=False)\n",
    "    df_pixels_fp.to_csv(fn_pixels_page, index=False)"
   ]
  },
  {
   "cell_type": "markdown",
   "metadata": {},
   "source": [
    "## Histogram of Google-occupied pixels"
   ]
  },
  {
   "cell_type": "code",
   "execution_count": 19,
   "metadata": {},
   "outputs": [],
   "source": [
    "def hist(series, color='black', \n",
    "         title=None, \n",
    "         fn_out=None,\n",
    "         left_right_annotations = (None, None)):\n",
    "    \"\"\"Creates a histogram for a given series\"\"\"\n",
    "    ax = series.plot(kind='hist', \n",
    "                           figsize=(10,6),\n",
    "                           bins=10, \n",
    "                           rwidth=.95,\n",
    "                           color=color,\n",
    "                           alpha=.9,\n",
    "                           title=title)\n",
    "\n",
    "    ax.tick_params(axis=\"both\", which=\"both\", bottom=\"off\", \n",
    "                   top=\"off\", labelbottom=\"on\", left=\"off\", \n",
    "                   right=\"off\", labelleft=\"on\")\n",
    "\n",
    "    plt.annotate(left_right_annotations[0], \n",
    "                 (0.04, 0), (0, -21), \n",
    "                 xycoords='axes fraction', \n",
    "                 textcoords='offset points', \n",
    "                 va='top')\n",
    "    plt.annotate(left_right_annotations[-1], \n",
    "                 (.75, 0), (.75, -21), \n",
    "                 xycoords='axes fraction', \n",
    "                 textcoords='offset points', \n",
    "                 va='top')\n",
    "\n",
    "    ax.set_ylabel(\"Count of search pages\")\n",
    "\n",
    "    ax.set_axisbelow(True)\n",
    "    plt.gca().yaxis.grid(True)\n",
    "\n",
    "    # Hide the right and top spines\n",
    "    ax.spines['right'].set_visible(False)\n",
    "    ax.spines['top'].set_visible(False)\n",
    "\n",
    "    # Only show ticks on the left and bottom spines\n",
    "    ax.yaxis.set_ticks_position('left')\n",
    "    ax.xaxis.set_ticks_position('bottom')\n",
    "    \n",
    "    if fn_out:\n",
    "         plt.savefig(fn_out)\n",
    "    \n",
    "    return ax"
   ]
  },
  {
   "cell_type": "code",
   "execution_count": 20,
   "metadata": {},
   "outputs": [
    {
     "data": {
      "image/png": "[encoded data removed]",
      "text/plain": [
       "<Figure size 720x432 with 1 Axes>"
      ]
     },
     "metadata": {
      "needs_background": "light"
     },
     "output_type": "display_data"
    }
   ],
   "source": [
    "hist(df_pixels.e1,\n",
    "     left_right_annotations = ('Very little non-Google area',\n",
    "                               'Almost entirely non-Google area'),\n",
    "     color=cat2color['organic'],\n",
    "     title = f'Non-Google area first screen (N={len(df_pixels):,} searches)',\n",
    "     fn_out='../data/output/figures/eq1_abv.png');"
   ]
  },
  {
   "cell_type": "code",
   "execution_count": 21,
   "metadata": {},
   "outputs": [
    {
     "data": {
      "text/plain": [
       "58.25"
      ]
     },
     "execution_count": 21,
     "metadata": {},
     "output_type": "execute_result"
    }
   ],
   "source": [
    "# What percentage of pages have 10% or less of the page occupied by Non-Google?\n",
    "len(df_pixels[df_pixels.e1 <= .1]) / len(df_pixels) * 100"
   ]
  },
  {
   "cell_type": "code",
   "execution_count": 22,
   "metadata": {},
   "outputs": [
    {
     "data": {
      "text/plain": [
       "(0.20060110647001203, 0.04491235682788)"
      ]
     },
     "execution_count": 22,
     "metadata": {},
     "output_type": "execute_result"
    }
   ],
   "source": [
    "df_pixels.e1.mean(), df_pixels.e1.median()"
   ]
  },
  {
   "cell_type": "code",
   "execution_count": 23,
   "metadata": {},
   "outputs": [
    {
     "data": {
      "text/plain": [
       "1.4312050779916208"
      ]
     },
     "execution_count": 23,
     "metadata": {},
     "output_type": "execute_result"
    }
   ],
   "source": [
    "# what is the standard error?\n",
    "(df_pixels.e1.sem()) * 100"
   ]
  },
  {
   "cell_type": "markdown",
   "metadata": {},
   "source": [
    "What about the full page?"
   ]
  },
  {
   "cell_type": "code",
   "execution_count": 24,
   "metadata": {},
   "outputs": [
    {
     "data": {
      "image/png": "[encoded data removed]",
      "text/plain": [
       "<Figure size 720x432 with 1 Axes>"
      ]
     },
     "metadata": {
      "needs_background": "light"
     },
     "output_type": "display_data"
    }
   ],
   "source": [
    "hist(df_pixels_fp.e1,\n",
    "     title=f'Non-Google real area first full page (N={len(df_pixels):,})',\n",
    "     left_right_annotations = ('Very little non-Google area',\n",
    "                               'Almost entirely non-Google area'),\n",
    "     color=cat2color['organic'],\n",
    "     fn_out='../data/output/figures/eq1_page.png');"
   ]
  },
  {
   "cell_type": "code",
   "execution_count": 25,
   "metadata": {},
   "outputs": [
    {
     "data": {
      "text/plain": [
       "41.5"
      ]
     },
     "execution_count": 25,
     "metadata": {},
     "output_type": "execute_result"
    }
   ],
   "source": [
    "# What percentage of pages have 50% or more of the page occupied by non-Google?\n",
    "len(df_pixels_fp[df_pixels_fp.e1 >= .5]) / len(df_pixels) * 100"
   ]
  },
  {
   "cell_type": "code",
   "execution_count": 26,
   "metadata": {},
   "outputs": [
    {
     "data": {
      "text/plain": [
       "<matplotlib.axes._subplots.AxesSubplot at 0x7f816766ef70>"
      ]
     },
     "execution_count": 26,
     "metadata": {},
     "output_type": "execute_result"
    },
    {
     "data": {
      "image/png": "[encoded data removed]",
      "text/plain": [
       "<Figure size 720x432 with 1 Axes>"
      ]
     },
     "metadata": {
      "needs_background": "light"
     },
     "output_type": "display_data"
    }
   ],
   "source": [
    "hist(df_pixels.e2,\n",
    "     color='k',\n",
    "     title = f'Google occupied real estate first screen (N={len(df_pixels):,})',\n",
    "     left_right_annotations=('Very little Google area',\n",
    "                               'Almost entirely Google area'),\n",
    "     fn_out='../data/output/figures/eq2_above.png')"
   ]
  },
  {
   "cell_type": "code",
   "execution_count": 27,
   "metadata": {},
   "outputs": [
    {
     "data": {
      "text/plain": [
       "41.75"
      ]
     },
     "execution_count": 27,
     "metadata": {},
     "output_type": "execute_result"
    }
   ],
   "source": [
    "# What percentage of pages have 90% or more of the page occupied by Google?\n",
    "len(df_pixels[df_pixels.e2 >= .9]) / len(df_pixels) * 100"
   ]
  },
  {
   "cell_type": "markdown",
   "metadata": {},
   "source": [
    "## Figure 2\n",
    "Like the histogram above, lets bin the data to show the distribution of area coverage per category in our sample:"
   ]
  },
  {
   "cell_type": "code",
   "execution_count": 28,
   "metadata": {},
   "outputs": [],
   "source": [
    "fn_fig2 = os.path.join(figure_dir, '2-normalized-bar.png')\n",
    "fn_fig2_data = os.path.join(figure_dir, '2-normalized-bar.csv')"
   ]
  },
  {
   "cell_type": "code",
   "execution_count": 29,
   "metadata": {},
   "outputs": [
    {
     "data": {
      "text/plain": [
       "(-0.001, 0.25]    0.7225\n",
       "(0.25, 0.5]       0.1175\n",
       "(0.5, 0.75]       0.0750\n",
       "(0.75, 1.0]       0.0850\n",
       "Name: e1, dtype: float64"
      ]
     },
     "execution_count": 29,
     "metadata": {},
     "output_type": "execute_result"
    }
   ],
   "source": [
    "non_google_bins = (pd.cut(df_pixels.e1, bins=4).value_counts() / \n",
    "                   n_pages).sort_index()\n",
    "non_google_bins"
   ]
  },
  {
   "cell_type": "code",
   "execution_count": 30,
   "metadata": {},
   "outputs": [
    {
     "data": {
      "text/plain": [
       "(-0.001, 0.25]    0.2375\n",
       "(0.25, 0.5]       0.1200\n",
       "(0.5, 0.75]       0.0950\n",
       "(0.75, 1.0]       0.5475\n",
       "Name: e2, dtype: float64"
      ]
     },
     "execution_count": 30,
     "metadata": {},
     "output_type": "execute_result"
    }
   ],
   "source": [
    "google_bins = (pd.cut(df_pixels.e2, bins=4).value_counts() / \n",
    "               n_pages).sort_index()\n",
    "google_bins"
   ]
  },
  {
   "cell_type": "code",
   "execution_count": 31,
   "metadata": {},
   "outputs": [],
   "source": [
    "cmap = plt.cm.get_cmap('gray_r')\n",
    "colors = iter(cmap(np.linspace(0.2,.7,4)))\n",
    "labels = [\n",
    "    '\\nLittle or No Coverage\\n[0, 25%] of area',\n",
    "    '\\nSome Coverage\\n(25, 50%]',\n",
    "    '\\nMore Coverage\\n(50, 75%]',\n",
    "    '\\nAlmost Entirely Covered\\n(75, 100%]'\n",
    "]\n",
    "legend_elements_bar = [Line2D([0], [0], marker='s', color='w', \n",
    "                          label=labels[i],\n",
    "                          markerfacecolor=c, markersize=10)\n",
    "                   for i, c in enumerate(colors)][::-1]"
   ]
  },
  {
   "cell_type": "code",
   "execution_count": 32,
   "metadata": {},
   "outputs": [
    {
     "data": {
      "image/png": "[encoded data removed]",
      "text/plain": [
       "<Figure size 720x288 with 1 Axes>"
      ]
     },
     "metadata": {
      "needs_background": "light"
     },
     "output_type": "display_data"
    }
   ],
   "source": [
    "cmap = plt.cm.get_cmap('gray_r')\n",
    "colors = iter(cmap(np.linspace(0.2,.7,4)))\n",
    "\n",
    "colors_g = iter(cmap(np.linspace(0.2,.7,4)))\n",
    "\n",
    "# Create a figure with a single subplot\n",
    "f, ax = plt.subplots(1, figsize=(10,4))\n",
    "\n",
    "# Set bar width at 1\n",
    "bar_width = 1\n",
    "_google = google_bins.values\n",
    "_non_google = non_google_bins.values\n",
    "for i, data in enumerate(_google):\n",
    "    if i != 0:\n",
    "        ax.barh('Google', data, \n",
    "                left=sum(_google[:i]),\n",
    "                 linewidth=0,\n",
    "                 color=next(colors_g)\n",
    "               );\n",
    "    else:\n",
    "        ax.barh('Google', data,\n",
    "               color=next(colors_g)\n",
    "               );\n",
    "        \n",
    "for i, data in enumerate(_non_google):\n",
    "    if i != 0:\n",
    "        ax.barh('non-Google', data, color=next(colors), left=sum(_non_google[:i]));\n",
    "    else:\n",
    "        ax.barh('non-Google', data, color=next(colors))\n",
    "\n",
    "plt.title(f'Majority of First Screens Had \"Little or No\" Non-Google\\n'\n",
    "          f'But \"Almost Entirely Covered\" by Google (N={len(df_pixels):,})',\n",
    "           x=0.48,\n",
    "         y=1.125,\n",
    "         size=15.5)\n",
    "        \n",
    "# Hide the right and top spines\n",
    "ax.spines['right'].set_visible(False)\n",
    "ax.spines['top'].set_visible(False)\n",
    "\n",
    "# Only show ticks on the left and bottom spines\n",
    "ax.yaxis.set_ticks_position('left')\n",
    "ax.xaxis.set_ticks_position('bottom')\n",
    "\n",
    "ax.xaxis.set_major_formatter(ticker.PercentFormatter(xmax=1))\n",
    "\n",
    "\n",
    "plt.xlabel('perecentage of first screen search pages in sample')\n",
    "ax.legend(handles=legend_elements_bar[::-1],\n",
    "          loc='lower left', \n",
    "          bbox_to_anchor= (-0.005, 1.015), ncol=4,\n",
    "          handletextpad=0.1,\n",
    "          labelspacing=0, \n",
    "          borderaxespad=.1, \n",
    "          borderpad=0.1,\n",
    "          frameon=False,\n",
    "          prop={'size': 9.2})\n",
    "\n",
    "plt.savefig(fn_fig2)\n",
    "plt.show();"
   ]
  },
  {
   "cell_type": "code",
   "execution_count": 33,
   "metadata": {},
   "outputs": [],
   "source": [
    "merged = pd.DataFrame(google_bins).join(pd.DataFrame(non_google_bins))\n",
    "merged.columns = ['Googe', 'Non-Google']\n",
    "merged.to_csv(fn_fig2_data)"
   ]
  },
  {
   "cell_type": "markdown",
   "metadata": {},
   "source": [
    "## Distance Plot"
   ]
  },
  {
   "cell_type": "code",
   "execution_count": 34,
   "metadata": {},
   "outputs": [],
   "source": [
    "fn_fig3 = os.path.join(figure_dir, '3-distance_normalized.png')\n",
    "fn_fig3_data = os.path.join(figure_dir, '3-distance_normalized.csv')"
   ]
  },
  {
   "cell_type": "code",
   "execution_count": 35,
   "metadata": {},
   "outputs": [],
   "source": [
    "df.loc[:, 'y_dist'] = df.location.apply(lambda x: x['y'])"
   ]
  },
  {
   "cell_type": "code",
   "execution_count": 36,
   "metadata": {},
   "outputs": [],
   "source": [
    "df.loc[df['category'] == 'link-youtube', \n",
    "       \"category_standard\"] = 'youtube'\n",
    "df.loc[df['category'] == 'link-youtube_search_result', \n",
    "       \"category_standard\"] = 'youtube-search-result'"
   ]
  },
  {
   "cell_type": "code",
   "execution_count": 37,
   "metadata": {},
   "outputs": [],
   "source": [
    "blue_link_categories = [\n",
    "    'organic-search_result',\n",
    "    'amp-search_result',\n",
    "    \"youtube-search-result\"\n",
    "]"
   ]
  },
  {
   "cell_type": "code",
   "execution_count": 38,
   "metadata": {},
   "outputs": [],
   "source": [
    "standard_categories = [\n",
    "    \"organic-search_result\",\n",
    "    \"organic\",\n",
    "    \"ads\",\n",
    "    \"amp-card\",\n",
    "    \"amp-visual_stories\",\n",
    "    \"google-images\",\n",
    "    \"youtube\",\n",
    "    \"google-maps\",\n",
    "    'google-answer',\n",
    "    \"google-search\",\n",
    "    \"amp-search_result\",\n",
    "    \"youtube-search-result\",\n",
    "]"
   ]
  },
  {
   "cell_type": "code",
   "execution_count": 39,
   "metadata": {},
   "outputs": [],
   "source": [
    "cat2name = {\n",
    "    \"ads\" : 'Ad',\n",
    "    \"organic\" : 'non-\\nGoogle\\nLink',\n",
    "    \"amp-card\" : 'AMP\\nArticle',\n",
    "    \"amp-visual_stories\" : \"AMP\\nStory\",\n",
    "    \"google-images\" : 'Google\\nImages',\n",
    "    \"youtube\": 'YouTube',\n",
    "    \"google-maps\" : 'Google\\nMaps',\n",
    "    'google-answer' : 'Direct\\nAnswer',\n",
    "    'google-search' : 'Google\\nSearch',\n",
    "    \"organic-search_result\" : 'non-\\nGoogle\\nTrad-\\nitional\\nResult'\n",
    "}"
   ]
  },
  {
   "cell_type": "code",
   "execution_count": 40,
   "metadata": {},
   "outputs": [
    {
     "data": {
      "text/plain": [
       "google-search                   7496\n",
       "google-answer                   3450\n",
       "google-misc                     2968\n",
       "organic                         2903\n",
       "organic-search_result           2890\n",
       "google-images                   2580\n",
       "google-expandable-answer        2505\n",
       "youtube                         1892\n",
       "google-knowledge-panel-links    1553\n",
       "amp-card                        1264\n",
       "amp-search_result                935\n",
       "ads                              149\n",
       "google-maps                       55\n",
       "google-video                      32\n",
       "youtube-search-result             30\n",
       "amp-visual_stories                22\n",
       "Name: category_standard, dtype: int64"
      ]
     },
     "execution_count": 40,
     "metadata": {},
     "output_type": "execute_result"
    }
   ],
   "source": [
    "df.category_standard.value_counts()"
   ]
  },
  {
   "cell_type": "markdown",
   "metadata": {},
   "source": [
    "Here we get distance down the page we'd have to for before seeing specific search features (`standard_categories`).\n",
    "\n",
    "Note, we normalize the length down a page between 0 (below the search bar and headers) and 1 (below the \"More results\" button)."
   ]
  },
  {
   "cell_type": "code",
   "execution_count": 41,
   "metadata": {},
   "outputs": [],
   "source": [
    "header = 160\n",
    "normalize = True"
   ]
  },
  {
   "cell_type": "code",
   "execution_count": 42,
   "metadata": {},
   "outputs": [],
   "source": [
    "if not os.path.exists(fn_fig3_data):\n",
    "    dist = {k : [] for k in standard_categories}\n",
    "    for site, _df in tqdm(df[df.area_page != 0].groupby('fn_input')):\n",
    "        end_of_page = _df['position_last_element'].iloc[0] - header\n",
    "        for cat in standard_categories:\n",
    "            # a tweak for blue links.\n",
    "            _df.category_standard = _df.category_standard.replace({'amp-search_result' :'organic-search_result',\n",
    "                                                                   'youtube-search-result' : 'organic-search_result'})\n",
    "            __df = _df[_df.category_standard == cat]\n",
    "            if not __df.empty:\n",
    "                # normalized page\n",
    "                if normalize:\n",
    "                    y_min = (__df.y_dist.min() - header) / end_of_page\n",
    "                else:\n",
    "                    y_min =__df.y_dist.min()\n",
    "                dist[cat].append(y_min)\n",
    "\n",
    "    for k in ['amp-search_result', 'youtube-search-result']:\n",
    "        dist.pop(k)\n",
    "\n",
    "    data = []\n",
    "    for cat, v in dist.items():\n",
    "        _dist = pd.DataFrame({'dist_y' : v}).dist_y\n",
    "        mean = _dist.mean()\n",
    "        median = _dist.median()\n",
    "        err = _dist.sem()\n",
    "        std = _dist.std()\n",
    "        data.append({\n",
    "            'category' : cat,\n",
    "            'dist_mean' : mean,\n",
    "            'min' : _dist.describe()['min'],\n",
    "            '25' : _dist.describe()['25%'],\n",
    "            '50' : _dist.describe()['50%'],\n",
    "            '75' : _dist.describe()['75%'],\n",
    "            'max' : _dist.describe()['max'],\n",
    "            'std' : std,\n",
    "            'sem_error' : err,\n",
    "            'n' : len(v)\n",
    "        })\n",
    "    df_dist = pd.DataFrame(data)\n",
    "    del data\n",
    "\n",
    "else:\n",
    "    df_dist = pd.read_csv(fn_fig3_data)"
   ]
  },
  {
   "cell_type": "code",
   "execution_count": 43,
   "metadata": {},
   "outputs": [
    {
     "data": {
      "image/png": "[encoded data removed]",
      "text/plain": [
       "<Figure size 532.8x792 with 1 Axes>"
      ]
     },
     "metadata": {
      "needs_background": "light"
     },
     "output_type": "display_data"
    }
   ],
   "source": [
    "legend_elements_dist = [Line2D([0], [0], marker='o', color='w', \n",
    "                          label=label2publabel.get(label),\n",
    "                          markerfacecolor=c, markersize=10)\n",
    "                        for label, c in cat2color.items()][::-1]\n",
    "\n",
    "fig, ax = plt.subplots(figsize=(7.4, 11))\n",
    "col = '50'\n",
    "data = df_dist.sort_values(by=col)\n",
    "labels = [cat.replace('google-answer', 'answer')\n",
    "                            .replace('google-expandable-answer', 'answer')\n",
    "                            .split('-')[0]\n",
    "                            .replace('google', 'link')\n",
    "                            .replace('youtube', 'link') for cat in data.category]\n",
    "\n",
    "colors = [cat2color.get(label) for label in labels]\n",
    "\n",
    "\n",
    "plt.scatter(data.category, data[col], \n",
    "            c=colors, zorder=100)\n",
    "\n",
    "plt.errorbar(data.category, col, \n",
    "             data=data,\n",
    "             yerr=[data[col] - data['25'], \n",
    "                   data['75']- data[col]], \n",
    "             ecolor='k', color='white',\n",
    "             capsize = 3,  fmt='o',\n",
    "             alpha=.7)\n",
    "\n",
    "plt.gca().invert_yaxis()\n",
    "plt.axhline(y=.15, color='black', linestyle='-.', alpha=.4)\n",
    "# plt.annotate('Top of Page', (8, .143))\n",
    "plt.annotate('First Screen', (-.2, .163))\n",
    "\n",
    "\n",
    "plt.xticks(rotation=90)\n",
    "for i, (_, row) in enumerate(data.iterrows()):\n",
    "    txt = row['category']\n",
    "    x = i + .11\n",
    "    y = row[col]\n",
    "    plt.annotate(cat2name.get(txt, txt), \n",
    "                 (x, y), \n",
    "                 ha='left',\n",
    "                 zorder=200)\n",
    "\n",
    "\n",
    "ax.set_ylabel(\"Percentage down the page\")\n",
    "\n",
    "ax.legend(handles=legend_elements_dist[::-1],\n",
    "          loc='lower left', \n",
    "          bbox_to_anchor= (-0.025, 1.015), ncol=5,\n",
    "          handletextpad=0.0,\n",
    "          labelspacing=0, \n",
    "          borderaxespad=.1, \n",
    "          borderpad=0.1,\n",
    "          frameon=False,\n",
    "          prop={'size': 9.2}\n",
    "         )\n",
    "\n",
    "plt.title('Median distance down page before first contact',\n",
    "         x=0.48,\n",
    "         y=1.05,\n",
    "         size=15.)\n",
    "\n",
    "# ax.yaxis.set_major_formatter(mtick.PercentFormatter())\n",
    "vals = ax.get_yticks()\n",
    "ax.set_yticklabels(['{:,.0%}'.format(x) for x in vals])\n",
    "\n",
    "ax.set_axisbelow(True)\n",
    "# plt.gca().yaxis.grid(True)\n",
    "\n",
    "# Hide the right and top spines\n",
    "ax.spines['right'].set_visible(False)\n",
    "ax.spines['top'].set_visible(False)\n",
    "\n",
    "# Only show ticks on the left and bottom spines\n",
    "ax.yaxis.set_ticks_position('left')\n",
    "ax.xaxis.set_ticks_position('bottom')\n",
    "ax.xaxis.set_visible(False)\n",
    "\n",
    "plt.savefig(fn_fig3)\n",
    "del data;\n",
    "plt.show();"
   ]
  },
  {
   "cell_type": "code",
   "execution_count": 44,
   "metadata": {},
   "outputs": [],
   "source": [
    "df_dist.loc[:, \"descriptive_name\"] = df_dist.category.replace(cat2name).str.replace('\\n', ' ').str.replace('non- ', 'non-').str.replace('Trad- ', 'Trad')"
   ]
  },
  {
   "cell_type": "code",
   "execution_count": 45,
   "metadata": {},
   "outputs": [],
   "source": [
    "df_dist.to_csv(fn_fig3_data, index=False)"
   ]
  },
  {
   "cell_type": "markdown",
   "metadata": {},
   "source": [
    "## Stacked Area Plot"
   ]
  },
  {
   "cell_type": "code",
   "execution_count": 46,
   "metadata": {},
   "outputs": [],
   "source": [
    "n_quantiles = 50"
   ]
  },
  {
   "cell_type": "code",
   "execution_count": 47,
   "metadata": {},
   "outputs": [],
   "source": [
    "fn_out = f'{data_dir}/output/figures/4-soup.csv'\n",
    "fn_plt = f'{data_dir}/output/figures/4-soup.png'"
   ]
  },
  {
   "cell_type": "code",
   "execution_count": 48,
   "metadata": {},
   "outputs": [],
   "source": [
    "area_cols = [f'q{i+1}_area' for i in range(0, n_quantiles)]"
   ]
  },
  {
   "cell_type": "code",
   "execution_count": 49,
   "metadata": {},
   "outputs": [],
   "source": [
    "labels_in_order = [\n",
    "    'ads',\n",
    "    'link',\n",
    "    'answer',\n",
    "    'amp',\n",
    "    'organic',\n",
    "][::-1]\n",
    "\n",
    "label2publabel = {\n",
    "    'link' : 'Google Product',\n",
    "    'answer' : 'Google Answer',\n",
    "    'organic' : 'Organic',\n",
    "    'amp' : 'AMP',\n",
    "    'ads' : 'Ads'\n",
    "}\n",
    "\n",
    "label2label = {\n",
    "    'organic' : 'Non-Google',\n",
    "    'amp' : 'AMP',\n",
    "    'answer' : 'Google Answer',\n",
    "    'link' : 'Google Product',\n",
    "    'ads' : \"Ads\",\n",
    "}"
   ]
  },
  {
   "cell_type": "code",
   "execution_count": 50,
   "metadata": {},
   "outputs": [
    {
     "name": "stderr",
     "output_type": "stream",
     "text": [
      "100%|██████████| 50/50 [00:00<00:00, 141.48it/s]\n"
     ]
    }
   ],
   "source": [
    "data = []\n",
    "for q in tqdm(area_cols):\n",
    "    _df = df[df[q] > 0]\n",
    "    total_area = _df[q].sum()\n",
    "    row = {'quantile' : q.replace('_area', '')}\n",
    "    for label in labels_in_order:\n",
    "        __df = _df[_df.label == label]\n",
    "        area = (__df[q].sum() / total_area)\n",
    "        freq = __df.fn_input.nunique() / n_pages\n",
    "        row['area', label2publabel.get(label,label)] = area\n",
    "        row['freq', label2publabel.get(label,label)] = freq\n",
    "    data.append(row)"
   ]
  },
  {
   "cell_type": "code",
   "execution_count": 51,
   "metadata": {},
   "outputs": [],
   "source": [
    "quantiles = pd.DataFrame(data)\n",
    "quantiles.set_index('quantile', inplace=True)\n",
    "quantiles.columns = pd.MultiIndex.from_tuples(quantiles.columns)"
   ]
  },
  {
   "cell_type": "code",
   "execution_count": 52,
   "metadata": {},
   "outputs": [
    {
     "data": {
      "text/html": [
       "<div>\n",
       "<style scoped>\n",
       "    .dataframe tbody tr th:only-of-type {\n",
       "        vertical-align: middle;\n",
       "    }\n",
       "\n",
       "    .dataframe tbody tr th {\n",
       "        vertical-align: top;\n",
       "    }\n",
       "\n",
       "    .dataframe thead tr th {\n",
       "        text-align: left;\n",
       "    }\n",
       "\n",
       "    .dataframe thead tr:last-of-type th {\n",
       "        text-align: right;\n",
       "    }\n",
       "</style>\n",
       "<table border=\"1\" class=\"dataframe\">\n",
       "  <thead>\n",
       "    <tr>\n",
       "      <th></th>\n",
       "      <th colspan=\"5\" halign=\"left\">area</th>\n",
       "    </tr>\n",
       "    <tr>\n",
       "      <th></th>\n",
       "      <th>Organic</th>\n",
       "      <th>AMP</th>\n",
       "      <th>Google Answer</th>\n",
       "      <th>Google Product</th>\n",
       "      <th>Ads</th>\n",
       "    </tr>\n",
       "    <tr>\n",
       "      <th>quantile</th>\n",
       "      <th></th>\n",
       "      <th></th>\n",
       "      <th></th>\n",
       "      <th></th>\n",
       "      <th></th>\n",
       "    </tr>\n",
       "  </thead>\n",
       "  <tbody>\n",
       "    <tr>\n",
       "      <th>q1</th>\n",
       "      <td>0.194357</td>\n",
       "      <td>0.003946</td>\n",
       "      <td>0.085335</td>\n",
       "      <td>0.602994</td>\n",
       "      <td>0.113368</td>\n",
       "    </tr>\n",
       "    <tr>\n",
       "      <th>q2</th>\n",
       "      <td>0.166013</td>\n",
       "      <td>0.054642</td>\n",
       "      <td>0.107274</td>\n",
       "      <td>0.580415</td>\n",
       "      <td>0.091656</td>\n",
       "    </tr>\n",
       "    <tr>\n",
       "      <th>q3</th>\n",
       "      <td>0.154081</td>\n",
       "      <td>0.164649</td>\n",
       "      <td>0.149886</td>\n",
       "      <td>0.447989</td>\n",
       "      <td>0.083395</td>\n",
       "    </tr>\n",
       "    <tr>\n",
       "      <th>q4</th>\n",
       "      <td>0.172171</td>\n",
       "      <td>0.187047</td>\n",
       "      <td>0.346454</td>\n",
       "      <td>0.222545</td>\n",
       "      <td>0.071782</td>\n",
       "    </tr>\n",
       "    <tr>\n",
       "      <th>q5</th>\n",
       "      <td>0.186035</td>\n",
       "      <td>0.188148</td>\n",
       "      <td>0.400082</td>\n",
       "      <td>0.187373</td>\n",
       "      <td>0.038364</td>\n",
       "    </tr>\n",
       "    <tr>\n",
       "      <th>q6</th>\n",
       "      <td>0.228340</td>\n",
       "      <td>0.122937</td>\n",
       "      <td>0.382815</td>\n",
       "      <td>0.230544</td>\n",
       "      <td>0.035364</td>\n",
       "    </tr>\n",
       "    <tr>\n",
       "      <th>q7</th>\n",
       "      <td>0.275636</td>\n",
       "      <td>0.071823</td>\n",
       "      <td>0.283594</td>\n",
       "      <td>0.342175</td>\n",
       "      <td>0.026773</td>\n",
       "    </tr>\n",
       "    <tr>\n",
       "      <th>q8</th>\n",
       "      <td>0.321621</td>\n",
       "      <td>0.047101</td>\n",
       "      <td>0.218558</td>\n",
       "      <td>0.395187</td>\n",
       "      <td>0.017533</td>\n",
       "    </tr>\n",
       "    <tr>\n",
       "      <th>q9</th>\n",
       "      <td>0.328110</td>\n",
       "      <td>0.053032</td>\n",
       "      <td>0.195498</td>\n",
       "      <td>0.415731</td>\n",
       "      <td>0.007629</td>\n",
       "    </tr>\n",
       "    <tr>\n",
       "      <th>q10</th>\n",
       "      <td>0.368628</td>\n",
       "      <td>0.071600</td>\n",
       "      <td>0.204906</td>\n",
       "      <td>0.344894</td>\n",
       "      <td>0.009972</td>\n",
       "    </tr>\n",
       "    <tr>\n",
       "      <th>q11</th>\n",
       "      <td>0.376474</td>\n",
       "      <td>0.081902</td>\n",
       "      <td>0.229130</td>\n",
       "      <td>0.309123</td>\n",
       "      <td>0.003371</td>\n",
       "    </tr>\n",
       "    <tr>\n",
       "      <th>q12</th>\n",
       "      <td>0.418811</td>\n",
       "      <td>0.082498</td>\n",
       "      <td>0.213188</td>\n",
       "      <td>0.284329</td>\n",
       "      <td>0.001174</td>\n",
       "    </tr>\n",
       "    <tr>\n",
       "      <th>q13</th>\n",
       "      <td>0.425123</td>\n",
       "      <td>0.108080</td>\n",
       "      <td>0.199935</td>\n",
       "      <td>0.266861</td>\n",
       "      <td>0.000000</td>\n",
       "    </tr>\n",
       "    <tr>\n",
       "      <th>q14</th>\n",
       "      <td>0.460156</td>\n",
       "      <td>0.119274</td>\n",
       "      <td>0.191647</td>\n",
       "      <td>0.228923</td>\n",
       "      <td>0.000000</td>\n",
       "    </tr>\n",
       "    <tr>\n",
       "      <th>q15</th>\n",
       "      <td>0.536493</td>\n",
       "      <td>0.111456</td>\n",
       "      <td>0.159620</td>\n",
       "      <td>0.192432</td>\n",
       "      <td>0.000000</td>\n",
       "    </tr>\n",
       "    <tr>\n",
       "      <th>q16</th>\n",
       "      <td>0.600845</td>\n",
       "      <td>0.104377</td>\n",
       "      <td>0.088988</td>\n",
       "      <td>0.205790</td>\n",
       "      <td>0.000000</td>\n",
       "    </tr>\n",
       "    <tr>\n",
       "      <th>q17</th>\n",
       "      <td>0.582943</td>\n",
       "      <td>0.108665</td>\n",
       "      <td>0.090549</td>\n",
       "      <td>0.217844</td>\n",
       "      <td>0.000000</td>\n",
       "    </tr>\n",
       "    <tr>\n",
       "      <th>q18</th>\n",
       "      <td>0.574634</td>\n",
       "      <td>0.105951</td>\n",
       "      <td>0.095400</td>\n",
       "      <td>0.224016</td>\n",
       "      <td>0.000000</td>\n",
       "    </tr>\n",
       "    <tr>\n",
       "      <th>q19</th>\n",
       "      <td>0.556369</td>\n",
       "      <td>0.109845</td>\n",
       "      <td>0.105327</td>\n",
       "      <td>0.228460</td>\n",
       "      <td>0.000000</td>\n",
       "    </tr>\n",
       "    <tr>\n",
       "      <th>q20</th>\n",
       "      <td>0.571427</td>\n",
       "      <td>0.120897</td>\n",
       "      <td>0.101786</td>\n",
       "      <td>0.205891</td>\n",
       "      <td>0.000000</td>\n",
       "    </tr>\n",
       "    <tr>\n",
       "      <th>q21</th>\n",
       "      <td>0.540230</td>\n",
       "      <td>0.145113</td>\n",
       "      <td>0.104313</td>\n",
       "      <td>0.210343</td>\n",
       "      <td>0.000000</td>\n",
       "    </tr>\n",
       "    <tr>\n",
       "      <th>q22</th>\n",
       "      <td>0.509474</td>\n",
       "      <td>0.136251</td>\n",
       "      <td>0.120972</td>\n",
       "      <td>0.233303</td>\n",
       "      <td>0.000000</td>\n",
       "    </tr>\n",
       "    <tr>\n",
       "      <th>q23</th>\n",
       "      <td>0.501335</td>\n",
       "      <td>0.121179</td>\n",
       "      <td>0.121883</td>\n",
       "      <td>0.255603</td>\n",
       "      <td>0.000000</td>\n",
       "    </tr>\n",
       "    <tr>\n",
       "      <th>q24</th>\n",
       "      <td>0.492391</td>\n",
       "      <td>0.103198</td>\n",
       "      <td>0.135561</td>\n",
       "      <td>0.268850</td>\n",
       "      <td>0.000000</td>\n",
       "    </tr>\n",
       "    <tr>\n",
       "      <th>q25</th>\n",
       "      <td>0.474951</td>\n",
       "      <td>0.108549</td>\n",
       "      <td>0.151295</td>\n",
       "      <td>0.265205</td>\n",
       "      <td>0.000000</td>\n",
       "    </tr>\n",
       "    <tr>\n",
       "      <th>q26</th>\n",
       "      <td>0.474904</td>\n",
       "      <td>0.113702</td>\n",
       "      <td>0.154863</td>\n",
       "      <td>0.256531</td>\n",
       "      <td>0.000000</td>\n",
       "    </tr>\n",
       "    <tr>\n",
       "      <th>q27</th>\n",
       "      <td>0.505868</td>\n",
       "      <td>0.103869</td>\n",
       "      <td>0.141737</td>\n",
       "      <td>0.248525</td>\n",
       "      <td>0.000000</td>\n",
       "    </tr>\n",
       "    <tr>\n",
       "      <th>q28</th>\n",
       "      <td>0.552513</td>\n",
       "      <td>0.095174</td>\n",
       "      <td>0.122754</td>\n",
       "      <td>0.229559</td>\n",
       "      <td>0.000000</td>\n",
       "    </tr>\n",
       "    <tr>\n",
       "      <th>q29</th>\n",
       "      <td>0.565219</td>\n",
       "      <td>0.124482</td>\n",
       "      <td>0.108904</td>\n",
       "      <td>0.201395</td>\n",
       "      <td>0.000000</td>\n",
       "    </tr>\n",
       "    <tr>\n",
       "      <th>q30</th>\n",
       "      <td>0.617769</td>\n",
       "      <td>0.122886</td>\n",
       "      <td>0.088850</td>\n",
       "      <td>0.170495</td>\n",
       "      <td>0.000000</td>\n",
       "    </tr>\n",
       "    <tr>\n",
       "      <th>q31</th>\n",
       "      <td>0.662750</td>\n",
       "      <td>0.140043</td>\n",
       "      <td>0.073107</td>\n",
       "      <td>0.124100</td>\n",
       "      <td>0.000000</td>\n",
       "    </tr>\n",
       "    <tr>\n",
       "      <th>q32</th>\n",
       "      <td>0.671160</td>\n",
       "      <td>0.176541</td>\n",
       "      <td>0.048675</td>\n",
       "      <td>0.103624</td>\n",
       "      <td>0.000000</td>\n",
       "    </tr>\n",
       "    <tr>\n",
       "      <th>q33</th>\n",
       "      <td>0.670372</td>\n",
       "      <td>0.193812</td>\n",
       "      <td>0.043044</td>\n",
       "      <td>0.092772</td>\n",
       "      <td>0.000000</td>\n",
       "    </tr>\n",
       "    <tr>\n",
       "      <th>q34</th>\n",
       "      <td>0.689577</td>\n",
       "      <td>0.211582</td>\n",
       "      <td>0.026734</td>\n",
       "      <td>0.072107</td>\n",
       "      <td>0.000000</td>\n",
       "    </tr>\n",
       "    <tr>\n",
       "      <th>q35</th>\n",
       "      <td>0.721132</td>\n",
       "      <td>0.208971</td>\n",
       "      <td>0.020560</td>\n",
       "      <td>0.049337</td>\n",
       "      <td>0.000000</td>\n",
       "    </tr>\n",
       "    <tr>\n",
       "      <th>q36</th>\n",
       "      <td>0.740694</td>\n",
       "      <td>0.194710</td>\n",
       "      <td>0.025192</td>\n",
       "      <td>0.039405</td>\n",
       "      <td>0.000000</td>\n",
       "    </tr>\n",
       "    <tr>\n",
       "      <th>q37</th>\n",
       "      <td>0.764191</td>\n",
       "      <td>0.186813</td>\n",
       "      <td>0.017612</td>\n",
       "      <td>0.031385</td>\n",
       "      <td>0.000000</td>\n",
       "    </tr>\n",
       "    <tr>\n",
       "      <th>q38</th>\n",
       "      <td>0.727212</td>\n",
       "      <td>0.226235</td>\n",
       "      <td>0.011215</td>\n",
       "      <td>0.035338</td>\n",
       "      <td>0.000000</td>\n",
       "    </tr>\n",
       "    <tr>\n",
       "      <th>q39</th>\n",
       "      <td>0.690930</td>\n",
       "      <td>0.255109</td>\n",
       "      <td>0.018763</td>\n",
       "      <td>0.033865</td>\n",
       "      <td>0.001334</td>\n",
       "    </tr>\n",
       "    <tr>\n",
       "      <th>q40</th>\n",
       "      <td>0.686874</td>\n",
       "      <td>0.247022</td>\n",
       "      <td>0.021107</td>\n",
       "      <td>0.042252</td>\n",
       "      <td>0.002743</td>\n",
       "    </tr>\n",
       "    <tr>\n",
       "      <th>q41</th>\n",
       "      <td>0.649197</td>\n",
       "      <td>0.235304</td>\n",
       "      <td>0.034162</td>\n",
       "      <td>0.076134</td>\n",
       "      <td>0.005203</td>\n",
       "    </tr>\n",
       "    <tr>\n",
       "      <th>q42</th>\n",
       "      <td>0.618797</td>\n",
       "      <td>0.212781</td>\n",
       "      <td>0.043678</td>\n",
       "      <td>0.119806</td>\n",
       "      <td>0.004939</td>\n",
       "    </tr>\n",
       "    <tr>\n",
       "      <th>q43</th>\n",
       "      <td>0.595654</td>\n",
       "      <td>0.183816</td>\n",
       "      <td>0.063153</td>\n",
       "      <td>0.151171</td>\n",
       "      <td>0.006206</td>\n",
       "    </tr>\n",
       "    <tr>\n",
       "      <th>q44</th>\n",
       "      <td>0.415719</td>\n",
       "      <td>0.108055</td>\n",
       "      <td>0.106709</td>\n",
       "      <td>0.360092</td>\n",
       "      <td>0.009424</td>\n",
       "    </tr>\n",
       "    <tr>\n",
       "      <th>q45</th>\n",
       "      <td>0.208769</td>\n",
       "      <td>0.066564</td>\n",
       "      <td>0.183720</td>\n",
       "      <td>0.536387</td>\n",
       "      <td>0.004561</td>\n",
       "    </tr>\n",
       "    <tr>\n",
       "      <th>q46</th>\n",
       "      <td>0.081023</td>\n",
       "      <td>0.022363</td>\n",
       "      <td>0.433009</td>\n",
       "      <td>0.459004</td>\n",
       "      <td>0.004602</td>\n",
       "    </tr>\n",
       "    <tr>\n",
       "      <th>q47</th>\n",
       "      <td>0.020713</td>\n",
       "      <td>0.005829</td>\n",
       "      <td>0.415052</td>\n",
       "      <td>0.558407</td>\n",
       "      <td>0.000000</td>\n",
       "    </tr>\n",
       "    <tr>\n",
       "      <th>q48</th>\n",
       "      <td>0.008431</td>\n",
       "      <td>0.003978</td>\n",
       "      <td>0.229740</td>\n",
       "      <td>0.757852</td>\n",
       "      <td>0.000000</td>\n",
       "    </tr>\n",
       "    <tr>\n",
       "      <th>q49</th>\n",
       "      <td>0.008059</td>\n",
       "      <td>0.002463</td>\n",
       "      <td>0.094917</td>\n",
       "      <td>0.894560</td>\n",
       "      <td>0.000000</td>\n",
       "    </tr>\n",
       "    <tr>\n",
       "      <th>q50</th>\n",
       "      <td>0.001345</td>\n",
       "      <td>0.000857</td>\n",
       "      <td>0.026642</td>\n",
       "      <td>0.971157</td>\n",
       "      <td>0.000000</td>\n",
       "    </tr>\n",
       "  </tbody>\n",
       "</table>\n",
       "</div>"
      ],
      "text/plain": [
       "              area                                                 \n",
       "           Organic       AMP Google Answer Google Product       Ads\n",
       "quantile                                                           \n",
       "q1        0.194357  0.003946      0.085335       0.602994  0.113368\n",
       "q2        0.166013  0.054642      0.107274       0.580415  0.091656\n",
       "q3        0.154081  0.164649      0.149886       0.447989  0.083395\n",
       "q4        0.172171  0.187047      0.346454       0.222545  0.071782\n",
       "q5        0.186035  0.188148      0.400082       0.187373  0.038364\n",
       "q6        0.228340  0.122937      0.382815       0.230544  0.035364\n",
       "q7        0.275636  0.071823      0.283594       0.342175  0.026773\n",
       "q8        0.321621  0.047101      0.218558       0.395187  0.017533\n",
       "q9        0.328110  0.053032      0.195498       0.415731  0.007629\n",
       "q10       0.368628  0.071600      0.204906       0.344894  0.009972\n",
       "q11       0.376474  0.081902      0.229130       0.309123  0.003371\n",
       "q12       0.418811  0.082498      0.213188       0.284329  0.001174\n",
       "q13       0.425123  0.108080      0.199935       0.266861  0.000000\n",
       "q14       0.460156  0.119274      0.191647       0.228923  0.000000\n",
       "q15       0.536493  0.111456      0.159620       0.192432  0.000000\n",
       "q16       0.600845  0.104377      0.088988       0.205790  0.000000\n",
       "q17       0.582943  0.108665      0.090549       0.217844  0.000000\n",
       "q18       0.574634  0.105951      0.095400       0.224016  0.000000\n",
       "q19       0.556369  0.109845      0.105327       0.228460  0.000000\n",
       "q20       0.571427  0.120897      0.101786       0.205891  0.000000\n",
       "q21       0.540230  0.145113      0.104313       0.210343  0.000000\n",
       "q22       0.509474  0.136251      0.120972       0.233303  0.000000\n",
       "q23       0.501335  0.121179      0.121883       0.255603  0.000000\n",
       "q24       0.492391  0.103198      0.135561       0.268850  0.000000\n",
       "q25       0.474951  0.108549      0.151295       0.265205  0.000000\n",
       "q26       0.474904  0.113702      0.154863       0.256531  0.000000\n",
       "q27       0.505868  0.103869      0.141737       0.248525  0.000000\n",
       "q28       0.552513  0.095174      0.122754       0.229559  0.000000\n",
       "q29       0.565219  0.124482      0.108904       0.201395  0.000000\n",
       "q30       0.617769  0.122886      0.088850       0.170495  0.000000\n",
       "q31       0.662750  0.140043      0.073107       0.124100  0.000000\n",
       "q32       0.671160  0.176541      0.048675       0.103624  0.000000\n",
       "q33       0.670372  0.193812      0.043044       0.092772  0.000000\n",
       "q34       0.689577  0.211582      0.026734       0.072107  0.000000\n",
       "q35       0.721132  0.208971      0.020560       0.049337  0.000000\n",
       "q36       0.740694  0.194710      0.025192       0.039405  0.000000\n",
       "q37       0.764191  0.186813      0.017612       0.031385  0.000000\n",
       "q38       0.727212  0.226235      0.011215       0.035338  0.000000\n",
       "q39       0.690930  0.255109      0.018763       0.033865  0.001334\n",
       "q40       0.686874  0.247022      0.021107       0.042252  0.002743\n",
       "q41       0.649197  0.235304      0.034162       0.076134  0.005203\n",
       "q42       0.618797  0.212781      0.043678       0.119806  0.004939\n",
       "q43       0.595654  0.183816      0.063153       0.151171  0.006206\n",
       "q44       0.415719  0.108055      0.106709       0.360092  0.009424\n",
       "q45       0.208769  0.066564      0.183720       0.536387  0.004561\n",
       "q46       0.081023  0.022363      0.433009       0.459004  0.004602\n",
       "q47       0.020713  0.005829      0.415052       0.558407  0.000000\n",
       "q48       0.008431  0.003978      0.229740       0.757852  0.000000\n",
       "q49       0.008059  0.002463      0.094917       0.894560  0.000000\n",
       "q50       0.001345  0.000857      0.026642       0.971157  0.000000"
      ]
     },
     "execution_count": 52,
     "metadata": {},
     "output_type": "execute_result"
    }
   ],
   "source": [
    "quantiles.loc[:,quantiles.columns.get_level_values(0) == 'area']"
   ]
  },
  {
   "cell_type": "code",
   "execution_count": 53,
   "metadata": {},
   "outputs": [],
   "source": [
    "cuts = quantiles.loc[:,quantiles.columns.get_level_values(0) == 'area']\n",
    "cuts.columns = cuts.columns.droplevel()"
   ]
  },
  {
   "cell_type": "code",
   "execution_count": 54,
   "metadata": {},
   "outputs": [],
   "source": [
    "cuts.to_csv(fn_out)"
   ]
  },
  {
   "cell_type": "code",
   "execution_count": 55,
   "metadata": {},
   "outputs": [],
   "source": [
    "legend_elements = [Line2D([0], [0], marker='o', color='w', \n",
    "                          label=label2label.get(label),\n",
    "                          markerfacecolor=c, markersize=10)\n",
    "                   for label, c in cat2color.items()][::-1]\n",
    "colors = [cat2color.get(c) for c in labels_in_order]"
   ]
  },
  {
   "cell_type": "code",
   "execution_count": 56,
   "metadata": {},
   "outputs": [
    {
     "data": {
      "image/png": "[encoded data removed]",
      "text/plain": [
       "<Figure size 504x864 with 1 Axes>"
      ]
     },
     "metadata": {
      "needs_background": "light"
     },
     "output_type": "display_data"
    }
   ],
   "source": [
    "page_section = [i / n_quantiles for i in range(len(cuts.index))]\n",
    "ig, ax = plt.subplots(figsize=(7, 12))\n",
    "\n",
    "data = np.cumsum(cuts.values, axis=1)\n",
    "for i, col in enumerate(cuts.columns):\n",
    "    ax.fill_betweenx(page_section, \n",
    "                     data[:, i], \n",
    "                     label=col[-1], \n",
    "                     color=colors[i],\n",
    "                     zorder=-i)\n",
    "ax.margins(y=0)\n",
    "ax.set_xlim(0, None)\n",
    "ax.set_axisbelow(False)\n",
    "plt.gca().invert_yaxis()\n",
    "\n",
    "# Hide the right and top spines\n",
    "ax.spines['right'].set_visible(False)\n",
    "ax.spines['top'].set_visible(False)\n",
    "\n",
    "# Only show ticks on the left and bottom spines\n",
    "ax.yaxis.set_ticks_position('left')\n",
    "ax.xaxis.set_ticks_position('bottom')\n",
    "\n",
    "# special ticks for y-axis\n",
    "ax.set_yticks(np.arange(0, 1.001, 0.0998), minor=True)\n",
    "plt.yticks(np.arange(0, 1.001, .499),\n",
    "           ['Top', 'Middle', 'Bottom'])\n",
    "\n",
    "ax.legend(handles=legend_elements[::-1],\n",
    "          loc='lower left', \n",
    "          bbox_to_anchor= (-0.025, 1.015), ncol=5,\n",
    "          handletextpad=0.0,\n",
    "          labelspacing=0, \n",
    "          borderaxespad=.1, \n",
    "          borderpad=0.1,\n",
    "          frameon=False,\n",
    "          prop={'size': 9.2}\n",
    "         )\n",
    "\n",
    "plt.title(\"What's on a Google search page as you go down?\",\n",
    "         x=0.48,\n",
    "         y=1.05,\n",
    "         size=15.5)\n",
    "\n",
    "ax.set_xlabel(\"Percentage of section covered by category\")\n",
    "\n",
    "ax.grid(which='major', \n",
    "        axis='x', \n",
    "        linestyle='-',\n",
    "        alpha=.27,\n",
    "        zorder=1000, \n",
    "        color='white')\n",
    "\n",
    "ax.grid(which='both', \n",
    "        axis='y', \n",
    "        linestyle='-',\n",
    "        alpha=.27,\n",
    "        zorder=1000, \n",
    "        color='white')\n",
    "\n",
    "plt.savefig(fn_plt)\n",
    "plt.show();"
   ]
  },
  {
   "cell_type": "code",
   "execution_count": null,
   "metadata": {},
   "outputs": [],
   "source": []
  }
 ],
 "metadata": {
  "kernelspec": {
   "display_name": "Python 3",
   "language": "python",
   "name": "python3"
  },
  "language_info": {
   "codemirror_mode": {
    "name": "ipython",
    "version": 3
   },
   "file_extension": ".py",
   "mimetype": "text/x-python",
   "name": "python",
   "nbconvert_exporter": "python",
   "pygments_lexer": "ipython3",
   "version": "3.8.1"
  }
 },
 "nbformat": 4,
 "nbformat_minor": 4
}
