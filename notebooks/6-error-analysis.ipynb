{
 "cells": [
  {
   "cell_type": "markdown",
   "metadata": {},
   "source": [
    "## Analyzing Spot Checks\n",
    "We spot checked 700-some images of stained search pages. The images were created by running the `abstract_paining()` function from web assay using screenshots and spatial metadata parsed from web pages. \n",
    "\n",
    "We used the Prodigy.ai annotation software to record errors. We removed some fields from from the annotation output including the base64 of the image.\n",
    "\n",
    "For images with errors, we estimate the number of pixels over or under-counted for each category."
   ]
  },
  {
   "cell_type": "code",
   "execution_count": 3,
   "metadata": {},
   "outputs": [],
   "source": [
    "import unicodedata\n",
    "from tqdm import tqdm\n",
    "import pandas as pd"
   ]
  },
  {
   "cell_type": "code",
   "execution_count": 4,
   "metadata": {},
   "outputs": [],
   "source": [
    "# these files contain the estimation of pixels over or under-counted\n",
    "fn_pixel_1 = '../data/error_analysis/leon-pixel-errors.csv'\n",
    "fn_pixel_2 ='../data/error_analysis/adrianne-pixel-errors.csv'\n",
    "\n",
    "# contains certain fields from prodigy for data points we spot checked.\n",
    "fn_spotcheck_1 = '../data/error_analysis/leon-annotations.csv.gz'\n",
    "fn_spotcheck_2 = '../data/error_analysis/adrianne-annotations.csv.gz'"
   ]
  },
  {
   "cell_type": "code",
   "execution_count": 5,
   "metadata": {},
   "outputs": [],
   "source": [
    "# read the files\n",
    "pix1 = pd.read_csv(fn_pixel_1, index_col=0)\n",
    "pix2 = pd.read_csv(fn_pixel_2, index_col=0)\n",
    "\n",
    "spot1 = pd.read_csv(fn_spotcheck_1, compression='gzip')\n",
    "spot2 = pd.read_csv(fn_spotcheck_2, compression='gzip')"
   ]
  },
  {
   "cell_type": "code",
   "execution_count": 6,
   "metadata": {},
   "outputs": [],
   "source": [
    "pix1.loc[:, \"annotator\"] = 'L'\n",
    "pix1.loc[:, \"annotator\"] = 'A'\n",
    "\n",
    "spot1.loc[:, \"annotator\"] = 'L'\n",
    "spot2.loc[:, \"annotator\"] = 'A'"
   ]
  },
  {
   "cell_type": "code",
   "execution_count": 7,
   "metadata": {},
   "outputs": [],
   "source": [
    "# combine the two annotators two files.\n",
    "pixels = pix1.append(pix2)\n",
    "spot = spot1.append(spot2)"
   ]
  },
  {
   "cell_type": "code",
   "execution_count": 9,
   "metadata": {},
   "outputs": [
    {
     "data": {
      "text/plain": [
       "(741, 74)"
      ]
     },
     "execution_count": 9,
     "metadata": {},
     "output_type": "execute_result"
    }
   ],
   "source": [
    "# how many we checked, and how many errors we found\n",
    "len(spot), len(pixels)"
   ]
  },
  {
   "cell_type": "code",
   "execution_count": 10,
   "metadata": {},
   "outputs": [
    {
     "data": {
      "text/plain": [
       "0.09986504723346828"
      ]
     },
     "execution_count": 10,
     "metadata": {},
     "output_type": "execute_result"
    }
   ],
   "source": [
    "# what is our total error rate?\n",
    "len(pixels) / len(spot)"
   ]
  },
  {
   "cell_type": "code",
   "execution_count": 11,
   "metadata": {},
   "outputs": [
    {
     "data": {
      "text/plain": [
       "amp           1.023895e+06\n",
       "google        6.522807e+05\n",
       "ads           4.758840e+05\n",
       "non-google    5.194243e+05\n",
       "dtype: float64"
      ]
     },
     "execution_count": 11,
     "metadata": {},
     "output_type": "execute_result"
    }
   ],
   "source": [
    "# net pixels over/undercounted per category\n",
    "pixels.sum()"
   ]
  },
  {
   "cell_type": "code",
   "execution_count": 12,
   "metadata": {},
   "outputs": [
    {
     "data": {
      "text/plain": [
       "23"
      ]
     },
     "execution_count": 12,
     "metadata": {},
     "output_type": "execute_result"
    }
   ],
   "source": [
    "# how many errors are from AMP?\n",
    "len(pixels[(pixels.amp > 1)])"
   ]
  },
  {
   "cell_type": "markdown",
   "metadata": {},
   "source": [
    "Analyze errors for each \"type\" of error."
   ]
  },
  {
   "cell_type": "code",
   "execution_count": 13,
   "metadata": {},
   "outputs": [
    {
     "data": {
      "text/plain": [
       "14"
      ]
     },
     "execution_count": 13,
     "metadata": {},
     "output_type": "execute_result"
    }
   ],
   "source": [
    "classification_errors = spot[(spot['missing classification'] == True) | (spot['wrong classification'] == True)].text\n",
    "classification_errors.nunique()"
   ]
  },
  {
   "cell_type": "code",
   "execution_count": 14,
   "metadata": {},
   "outputs": [
    {
     "data": {
      "text/plain": [
       "65"
      ]
     },
     "execution_count": 14,
     "metadata": {},
     "output_type": "execute_result"
    }
   ],
   "source": [
    "measurement_errors = spot[(spot['area is overestimated'] == True) | (spot['area is underestimated'] == True)].text\n",
    "measurement_errors.nunique()"
   ]
  },
  {
   "cell_type": "code",
   "execution_count": 15,
   "metadata": {},
   "outputs": [
    {
     "data": {
      "text/plain": [
       "(0.018893387314439947, 0.08771929824561403)"
      ]
     },
     "execution_count": 15,
     "metadata": {},
     "output_type": "execute_result"
    }
   ],
   "source": [
    "classification_errors.nunique() / len(spot), measurement_errors.nunique()/ len(spot)"
   ]
  },
  {
   "cell_type": "markdown",
   "metadata": {},
   "source": [
    "We can refer to the spatial metadata for each of the files in the spot check sample:"
   ]
  },
  {
   "cell_type": "code",
   "execution_count": 16,
   "metadata": {},
   "outputs": [],
   "source": [
    "files = spot['text'].apply(\n",
    "    lambda x : unicodedata.normalize(\"NFC\",\n",
    "                                     x.replace('data/', '../data/intermediary/google_search/')\n",
    "                                      .replace('/png/abstract_painting_img.png', '/json/parsed_meta.jsonl'\n",
    "))).to_list()"
   ]
  },
  {
   "cell_type": "code",
   "execution_count": 17,
   "metadata": {},
   "outputs": [
    {
     "name": "stderr",
     "output_type": "stream",
     "text": [
      "100%|██████████| 741/741 [00:10<00:00, 73.17it/s]\n"
     ]
    }
   ],
   "source": [
    "data = []\n",
    "for fn in tqdm(files):\n",
    "    _df = pd.read_json(unicodedata.normalize(\"NFC\", fn), \n",
    "                       orient='records',\n",
    "                       lines=True)\n",
    "    _df[\"fn\"] = fn\n",
    "    data.extend(_df.to_dict(orient='records'))"
   ]
  },
  {
   "cell_type": "code",
   "execution_count": 18,
   "metadata": {},
   "outputs": [],
   "source": [
    "df = pd.DataFrame(data)"
   ]
  },
  {
   "cell_type": "code",
   "execution_count": 19,
   "metadata": {},
   "outputs": [],
   "source": [
    "cat2label = {\n",
    "    'organic' : 'non-google',\n",
    "    'link' : 'google',\n",
    "    'answer' : 'google',\n",
    "    'ads' : 'ads'\n",
    "}"
   ]
  },
  {
   "cell_type": "code",
   "execution_count": 20,
   "metadata": {},
   "outputs": [],
   "source": [
    "def assign_label(row):\n",
    "    cat = row['category'].split('-')[0]\n",
    "    return cat2label.get(cat, cat)"
   ]
  },
  {
   "cell_type": "code",
   "execution_count": 21,
   "metadata": {},
   "outputs": [],
   "source": [
    "df['label'] = df.apply(assign_label, axis=1)"
   ]
  },
  {
   "cell_type": "code",
   "execution_count": 22,
   "metadata": {},
   "outputs": [],
   "source": [
    "# Calculate real estate with corrections from errors\n",
    "corrected_perc = (pixels.sum() + df.groupby('label')['area_page'].sum() )/ df['area_page'].sum()"
   ]
  },
  {
   "cell_type": "code",
   "execution_count": 23,
   "metadata": {},
   "outputs": [],
   "source": [
    "# what is the un-corrected real estate?\n",
    "og_perc = (df.groupby('label')['area_page'].sum() )/ df['area_page'].sum()"
   ]
  },
  {
   "cell_type": "code",
   "execution_count": 24,
   "metadata": {},
   "outputs": [
    {
     "data": {
      "text/plain": [
       "ads           0.046351\n",
       "amp           0.099728\n",
       "google        0.063533\n",
       "non-google    0.050592\n",
       "dtype: float64"
      ]
     },
     "execution_count": 24,
     "metadata": {},
     "output_type": "execute_result"
    }
   ],
   "source": [
    "# how much do corrections alter results?\n",
    "(corrected_perc - og_perc) * 100"
   ]
  },
  {
   "cell_type": "markdown",
   "metadata": {},
   "source": [
    "No category's real estate was effected beyond one-tenth of a percent when we look across the entire spot-checked sample."
   ]
  },
  {
   "cell_type": "markdown",
   "metadata": {},
   "source": [
    "What was the impact of real estate on individual pages?"
   ]
  },
  {
   "cell_type": "code",
   "execution_count": 25,
   "metadata": {},
   "outputs": [],
   "source": [
    "def get_search_term_img(fn):\n",
    "    return unicodedata.normalize(\"NFC\",fn.split('/png/')[0].split('/')[-1])\n",
    "\n",
    "def get_search_term_json(fn):\n",
    "    return unicodedata.normalize(\"NFC\",fn.split('/json/')[0].split('/')[-1])"
   ]
  },
  {
   "cell_type": "code",
   "execution_count": 26,
   "metadata": {},
   "outputs": [],
   "source": [
    "pixels.index = pixels.index.map(get_search_term_img)"
   ]
  },
  {
   "cell_type": "code",
   "execution_count": 27,
   "metadata": {},
   "outputs": [],
   "source": [
    "df['search_term'] = df.fn.apply(get_search_term_json)"
   ]
  },
  {
   "cell_type": "code",
   "execution_count": 28,
   "metadata": {},
   "outputs": [
    {
     "data": {
      "text/plain": [
       "74"
      ]
     },
     "execution_count": 28,
     "metadata": {},
     "output_type": "execute_result"
    }
   ],
   "source": [
    "len(pixels)"
   ]
  },
  {
   "cell_type": "code",
   "execution_count": 29,
   "metadata": {},
   "outputs": [],
   "source": [
    "df_e = df[df.search_term.isin(pixels.index)]"
   ]
  },
  {
   "cell_type": "code",
   "execution_count": 30,
   "metadata": {},
   "outputs": [
    {
     "name": "stderr",
     "output_type": "stream",
     "text": [
      "100%|██████████| 74/74 [00:00<00:00, 1030.56it/s]\n"
     ]
    }
   ],
   "source": [
    "# get the sum of pixels for each category for each search with an error.\n",
    "term2pixels = {}\n",
    "for _term, df_ in tqdm(df_e.groupby('search_term')):\n",
    "    row = df_.groupby('label').area_page.sum().to_dict()\n",
    "    row['all_area'] = df_.area_page.sum()\n",
    "    term2pixels[_term] =row"
   ]
  },
  {
   "cell_type": "code",
   "execution_count": 31,
   "metadata": {},
   "outputs": [],
   "source": [
    "og_pixel = pd.DataFrame(term2pixels).T\n",
    "og_pixel.fillna(0, inplace=True)"
   ]
  },
  {
   "cell_type": "code",
   "execution_count": 32,
   "metadata": {},
   "outputs": [],
   "source": [
    "def stats(row):\n",
    "    \"\"\"\n",
    "    Calculates the total pixels mis-counted as well as \n",
    "    the percentage of area that was mis-counted\n",
    "    \"\"\"\n",
    "    perc_change = {}\n",
    "    correspondant = og_pixel.loc[row.name]\n",
    "    for cat in ['amp', 'google', 'non-google', 'ads']:\n",
    "        row[f\"{cat}_perc_cat_area\"] = (row[cat] / correspondant[cat]) * 100\n",
    "        row[f\"{cat}_perc_total_area\"] = (row[cat] / correspondant['all_area']) * 100\n",
    "    return row"
   ]
  },
  {
   "cell_type": "code",
   "execution_count": 33,
   "metadata": {},
   "outputs": [
    {
     "name": "stderr",
     "output_type": "stream",
     "text": [
      "<ipython-input-32-98c570cef0d3>:9: RuntimeWarning: invalid value encountered in double_scalars\n",
      "  row[f\"{cat}_perc_cat_area\"] = (row[cat] / correspondant[cat]) * 100\n",
      "<ipython-input-32-98c570cef0d3>:9: RuntimeWarning: divide by zero encountered in double_scalars\n",
      "  row[f\"{cat}_perc_cat_area\"] = (row[cat] / correspondant[cat]) * 100\n"
     ]
    }
   ],
   "source": [
    "results = pd.DataFrame(pixels.apply(stats, axis=1))"
   ]
  },
  {
   "cell_type": "code",
   "execution_count": 34,
   "metadata": {},
   "outputs": [
    {
     "data": {
      "text/plain": [
       "amp                            46404.706410\n",
       "google                       -166396.646223\n",
       "ads                           210799.617048\n",
       "non-google                    127963.936080\n",
       "annotator                          0.000000\n",
       "amp_perc_cat_area                 41.148044\n",
       "amp_perc_total_area                3.530988\n",
       "google_perc_cat_area             -31.273392\n",
       "google_perc_total_area           -10.452977\n",
       "non-google_perc_cat_area          24.214813\n",
       "non-google_perc_total_area        12.401348\n",
       "ads_perc_cat_area                182.329968\n",
       "ads_perc_total_area               13.304421\n",
       "dtype: float64"
      ]
     },
     "execution_count": 34,
     "metadata": {},
     "output_type": "execute_result"
    }
   ],
   "source": [
    "# From classification errors\n",
    "results[results.index.isin([get_search_term_img(f) for f in classification_errors])].sum()"
   ]
  },
  {
   "cell_type": "code",
   "execution_count": 35,
   "metadata": {},
   "outputs": [
    {
     "data": {
      "text/plain": [
       "amp                           9.774901e+05\n",
       "google                        6.468972e+05\n",
       "ads                           2.713937e+05\n",
       "non-google                    6.065320e+05\n",
       "amp_perc_cat_area             8.076707e+02\n",
       "amp_perc_total_area           8.492652e+01\n",
       "google_perc_cat_area          1.059609e+02\n",
       "google_perc_total_area        4.715500e+01\n",
       "non-google_perc_cat_area      1.106186e+02\n",
       "non-google_perc_total_area    4.986764e+01\n",
       "ads_perc_cat_area                      inf\n",
       "ads_perc_total_area           1.947207e+01\n",
       "dtype: float64"
      ]
     },
     "execution_count": 35,
     "metadata": {},
     "output_type": "execute_result"
    }
   ],
   "source": [
    "# from measurement errors\n",
    "results[results.index.isin([get_search_term_img(f) for f in measurement_errors])].sum()"
   ]
  },
  {
   "cell_type": "code",
   "execution_count": 36,
   "metadata": {},
   "outputs": [
    {
     "name": "stdout",
     "output_type": "stream",
     "text": [
      "count    23.000000\n",
      "mean      3.845978\n",
      "std       2.950401\n",
      "min       1.609328\n",
      "25%       2.065514\n",
      "50%       2.487839\n",
      "75%       4.161377\n",
      "max      12.656428\n",
      "Name: amp_perc_total_area, dtype: float64\n",
      "\n",
      "count    13.000000\n",
      "mean      2.472851\n",
      "std       1.996503\n",
      "min      -0.316017\n",
      "25%       1.382312\n",
      "50%       1.756720\n",
      "75%       2.921937\n",
      "max       7.075561\n",
      "Name: ads_perc_total_area, dtype: float64\n",
      "\n",
      "count    20.000000\n",
      "mean      2.327070\n",
      "std       3.861660\n",
      "min     -12.207536\n",
      "25%       1.945556\n",
      "50%       2.665215\n",
      "75%       3.545442\n",
      "max       7.129694\n",
      "Name: non-google_perc_total_area, dtype: float64\n",
      "\n",
      "count    37.000000\n",
      "mean      1.303300\n",
      "std       2.506333\n",
      "min      -1.756720\n",
      "25%       0.557909\n",
      "50%       1.006652\n",
      "75%       1.772622\n",
      "max      11.532905\n",
      "Name: google_perc_total_area, dtype: float64\n",
      "\n"
     ]
    }
   ],
   "source": [
    "# the min, average, and max percentage of area mis-counted per category:\n",
    "for col in ['amp_perc_total_area', 'ads_perc_total_area', 'non-google_perc_total_area', 'google_perc_total_area']:\n",
    "    print(results[results[col] != 0][col].describe())\n",
    "    print()"
   ]
  },
  {
   "cell_type": "code",
   "execution_count": null,
   "metadata": {},
   "outputs": [],
   "source": []
  }
 ],
 "metadata": {
  "kernelspec": {
   "display_name": "Python 3",
   "language": "python",
   "name": "python3"
  },
  "language_info": {
   "codemirror_mode": {
    "name": "ipython",
    "version": 3
   },
   "file_extension": ".py",
   "mimetype": "text/x-python",
   "name": "python",
   "nbconvert_exporter": "python",
   "pygments_lexer": "ipython3",
   "version": "3.8.1"
  }
 },
 "nbformat": 4,
 "nbformat_minor": 4
}
