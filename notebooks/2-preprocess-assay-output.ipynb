{
 "cells": [
  {
   "cell_type": "markdown",
   "metadata": {},
   "source": [
    "# Data Preprocessing\n",
    "This notebook analyses the results of the element categorization and area estimations from the last notebook."
   ]
  },
  {
   "cell_type": "markdown",
   "metadata": {},
   "source": [
    "We preprocess the contents of each of these json files by:\n",
    "1. Normalizing the length of the page, and calculating the area of each element, <br>\n",
    "   - in N-quantiles.\n",
    "   - in the top 15% of distance down the normalized page (we call this the \"first screen\" in our methodology).\n",
    "   - in in the first full page.\n",
    "2. Standardizing labels"
   ]
  },
  {
   "cell_type": "code",
   "execution_count": 1,
   "metadata": {},
   "outputs": [],
   "source": [
    "%load_ext autoreload\n",
    "%autoreload 2\n",
    "%matplotlib inline"
   ]
  },
  {
   "cell_type": "code",
   "execution_count": 2,
   "metadata": {},
   "outputs": [],
   "source": [
    "import os\n",
    "import sys\n",
    "import json\n",
    "import gzip\n",
    "import time\n",
    "import glob\n",
    "import tempfile\n",
    "import warnings\n",
    "import inspect\n",
    "from typing import Dict, List\n",
    "from collections import Counter\n",
    "from multiprocessing import Pool\n",
    "warnings.filterwarnings('ignore')\n",
    "\n",
    "import numpy as np\n",
    "import pandas as pd\n",
    "import matplotlib.pyplot as plt\n",
    "from matplotlib.patches import Patch\n",
    "from bs4 import BeautifulSoup\n",
    "from tqdm import tqdm\n",
    "from IPython.display import display\n",
    "\n",
    "sys.path.append(\"..\")\n",
    "from utils.config import (\n",
    "    google_domains,\n",
    "    cat2color,\n",
    ")\n",
    "\n",
    "from utils.web_assay import calc_area"
   ]
  },
  {
   "cell_type": "markdown",
   "metadata": {},
   "source": [
    "## Read the intermediates"
   ]
  },
  {
   "cell_type": "code",
   "execution_count": 3,
   "metadata": {},
   "outputs": [],
   "source": [
    "# split the page into how many equal segments?\n",
    "n_quantiles = 50\n",
    "\n",
    "# height of Google search bar and tabs in pixels\n",
    "header = 160\n",
    "\n",
    "# width of the emulator viewport in pixels\n",
    "viewport_width = 363\n",
    "\n",
    "# variables\n",
    "use_full_dataset = False\n",
    "data_dir = '../data' if use_full_dataset else '../data_subsample'"
   ]
  },
  {
   "cell_type": "code",
   "execution_count": 4,
   "metadata": {},
   "outputs": [],
   "source": [
    "# inputs\n",
    "data_dir_metadata = f'{data_dir}/intermediary/google_search/'\n",
    "metadata_pattern = os.path.join(data_dir_metadata, \n",
    "                                'iPhone-X/*/*/*/*/json/parsed_meta.jsonl')\n",
    "# output\n",
    "fn_metadata = f'{data_dir}/intermediary/element_metadata.jsonl.gz'"
   ]
  },
  {
   "cell_type": "code",
   "execution_count": 5,
   "metadata": {},
   "outputs": [
    {
     "data": {
      "text/plain": [
       "400"
      ]
     },
     "execution_count": 5,
     "metadata": {},
     "output_type": "execute_result"
    }
   ],
   "source": [
    "metadata_files = glob.glob(metadata_pattern)\n",
    "len(metadata_files)"
   ]
  },
  {
   "cell_type": "code",
   "execution_count": 6,
   "metadata": {},
   "outputs": [
    {
     "name": "stdout",
     "output_type": "stream",
     "text": [
      "You already have the output file: ../data_subsample/intermediary/element_metadata.jsonl.gz\n",
      "you do not need to run subsequent cells!\n"
     ]
    }
   ],
   "source": [
    "if os.path.exists(fn_metadata):\n",
    "    print(f\"You already have the output file: {fn_metadata}\\nyou do not need to run subsequent cells!\")"
   ]
  },
  {
   "cell_type": "markdown",
   "metadata": {},
   "source": [
    "## Page Normalization and Calculating Area\n",
    "We read each file in `metadata_files`, and perform some calculations to get area in `read_file_calc_area`.<br>\n",
    "We use `Pool` to distribute this function across `n_processes` to speed things up.<br>\n",
    "This process pretty slow and resource intensive, so we suggest you don't run if you already have `fn_metadata`."
   ]
  },
  {
   "cell_type": "code",
   "execution_count": 7,
   "metadata": {},
   "outputs": [],
   "source": [
    "def get_bottom(row) -> int:\n",
    "    \"\"\"Finds the bottom of the last element\"\"\"\n",
    "    return row['location']['y'] + row['dimensions']['height']"
   ]
  },
  {
   "cell_type": "code",
   "execution_count": 30,
   "metadata": {},
   "outputs": [],
   "source": [
    "def read_file_calc_area(fn : Dict) -> List[Dict]:\n",
    "    \"\"\"\n",
    "    Reads a JSON file of element metadata from Web Assay.\n",
    "    Calculates normalized page length by discarding the headers (like the search bar),\n",
    "    and footers.\n",
    "    Using the normlaized page length, \n",
    "        Calculates the area for the \"first screen\" (`area_above_the_fold`),\n",
    "        as well as area in N quantiles.\n",
    "        \n",
    "    This procedure is functional and allows parallelization.\n",
    "    \"\"\"\n",
    "    metadata = pd.read_json(fn, lines=True, \n",
    "                            orient='records')\n",
    "    \n",
    "    bottom_element = metadata.apply(get_bottom, \n",
    "                                    axis=1).max()\n",
    "    \n",
    "    # this is the distance of the \"More results\" button, \n",
    "    # which we consider the end of the normalized page.\n",
    "    metadata.loc[:, \"position_last_element\"] = bottom_element\n",
    "    metadata.loc[:, \"fn_metadata\"] = fn\n",
    "    \n",
    "    # how long is each quartile?\n",
    "    interval = (bottom_element - header) / n_quantiles\n",
    "    \n",
    "    # what is the boundary of the top of a page?\n",
    "    above_the_fold = ((bottom_element - header) * .15) + header\n",
    "    \n",
    "    # create boundaries for N equal-sized sections in the search result\n",
    "    quantiles = {}\n",
    "    for i in range(n_quantiles):\n",
    "        upper = (i * interval) + header\n",
    "        lower = ((i + 1) * interval) + header\n",
    "        \n",
    "        quantiles[f'q{i + 1}'] = {\n",
    "            'upper_bound' : upper,\n",
    "            'lower_bound' : lower\n",
    "        }\n",
    "\n",
    "    # calculate the area of each element in each section.\n",
    "    for k, v in quantiles.items():\n",
    "        metadata.loc[:, f\"{k}_area\"] = metadata.apply(\n",
    "            lambda row: calc_area(\n",
    "                rect= row['dimensions'],\n",
    "                location= row['location'],\n",
    "                width= viewport_width,\n",
    "                height_top= v['upper_bound'],\n",
    "                height_bottom= v['lower_bound']\n",
    "            ), axis=1\n",
    "        )\n",
    "    \n",
    "    # calculate the area of each element in the entire search result\n",
    "    metadata.loc[:, \"area_page\"] = metadata.apply(\n",
    "        lambda row: calc_area(\n",
    "            rect= row['dimensions'],\n",
    "            location= row['location'],\n",
    "            width= viewport_width,\n",
    "        ), axis=1\n",
    "    )\n",
    "    \n",
    "    # calculate the area of the \"top of the page\"\n",
    "    metadata.loc[:, \"area_above_the_fold\"] = metadata.apply(\n",
    "        lambda row: calc_area(\n",
    "            rect= row['dimensions'],\n",
    "            location= row['location'],\n",
    "            width= viewport_width,\n",
    "            height_bottom = above_the_fold\n",
    "        ), axis=1\n",
    "    )\n",
    "    \n",
    "    for col in ['area', 'element', 'element_class']:\n",
    "        metadata.pop(col)\n",
    "        \n",
    "    return metadata.to_dict(orient='records')"
   ]
  },
  {
   "cell_type": "markdown",
   "metadata": {},
   "source": [
    "here's an example of what the function above does."
   ]
  },
  {
   "cell_type": "code",
   "execution_count": 9,
   "metadata": {},
   "outputs": [
    {
     "data": {
      "text/plain": [
       "{'text': 'middletown township',\n",
       " 'link': None,\n",
       " 'domain': 'google.com',\n",
       " 'xpath': '/html/body/div[10]/div/div[6]/div/div[4]/div/div/div[1]/div[3]/div/div/div[1]/div[1]/div[1]',\n",
       " 'category': 'answer-expand_1',\n",
       " 'tag': 'div',\n",
       " 'attrs': {'jsname': 'bVEB4e',\n",
       "  'class': ['QRY00e'],\n",
       "  'role': 'button',\n",
       "  'tabindex': '0',\n",
       "  'jsaction': 'DeSR5c',\n",
       "  'data-ved': '2ahUKEwjSzeGh44zmAhWsdd8KHXSCArwQ3aYDegQIJBAB'},\n",
       " 'dimensions': {'height': 48.0, 'width': 315.0},\n",
       " 'location': {'x': 24, 'y': 4503},\n",
       " 'area_page': 15120.0,\n",
       " 'fn_input': '../data/input/google_search/iPhone-X/2019/11/28/Middletown/html/webpage_raw.html',\n",
       " 'position_last_element': 4952.0,\n",
       " 'fn_metadata': '../data_subsample/intermediary/google_search/iPhone-X/2019/11/28/Middletown/json/parsed_meta.jsonl',\n",
       " 'q1_area': 0.0,\n",
       " 'q2_area': 0.0,\n",
       " 'q3_area': 0.0,\n",
       " 'q4_area': 0.0,\n",
       " 'q5_area': 0.0,\n",
       " 'q6_area': 0.0,\n",
       " 'q7_area': 0.0,\n",
       " 'q8_area': 0.0,\n",
       " 'q9_area': 0.0,\n",
       " 'q10_area': 0.0,\n",
       " 'q11_area': 0.0,\n",
       " 'q12_area': 0.0,\n",
       " 'q13_area': 0.0,\n",
       " 'q14_area': 0.0,\n",
       " 'q15_area': 0.0,\n",
       " 'q16_area': 0.0,\n",
       " 'q17_area': 0.0,\n",
       " 'q18_area': 0.0,\n",
       " 'q19_area': 0.0,\n",
       " 'q20_area': 0.0,\n",
       " 'q21_area': 0.0,\n",
       " 'q22_area': 0.0,\n",
       " 'q23_area': 0.0,\n",
       " 'q24_area': 0.0,\n",
       " 'q25_area': 0.0,\n",
       " 'q26_area': 0.0,\n",
       " 'q27_area': 0.0,\n",
       " 'q28_area': 0.0,\n",
       " 'q29_area': 0.0,\n",
       " 'q30_area': 0.0,\n",
       " 'q31_area': 0.0,\n",
       " 'q32_area': 0.0,\n",
       " 'q33_area': 0.0,\n",
       " 'q34_area': 0.0,\n",
       " 'q35_area': 0.0,\n",
       " 'q36_area': 0.0,\n",
       " 'q37_area': 0.0,\n",
       " 'q38_area': 0.0,\n",
       " 'q39_area': 0.0,\n",
       " 'q40_area': 0.0,\n",
       " 'q41_area': 0.0,\n",
       " 'q42_area': 0.0,\n",
       " 'q43_area': 0.0,\n",
       " 'q44_area': 0.0,\n",
       " 'q45_area': 0.0,\n",
       " 'q46_area': 15120.0,\n",
       " 'q47_area': 0.0,\n",
       " 'q48_area': 0.0,\n",
       " 'q49_area': 0.0,\n",
       " 'q50_area': 0.0,\n",
       " 'area_above_the_fold': 0.0}"
      ]
     },
     "execution_count": 9,
     "metadata": {},
     "output_type": "execute_result"
    }
   ],
   "source": [
    "metadata_file = metadata_files[0]\n",
    "results = read_file_calc_area(metadata_file)\n",
    "\n",
    "# results holds a list of dictionaries\n",
    "results[0]"
   ]
  },
  {
   "cell_type": "markdown",
   "metadata": {},
   "source": [
    "Each record in `results` represents one parsed element. Aside from the categorization of the element, the record contatins spatial metadata about where it is located, and how much space it occupies (in pixels). \n",
    "\n",
    "When you see `0.0` in a quantile area, like `q0_area`, that means that the element takes up no area in that section of the webpage.\n",
    "\n",
    "Recall (from the previous notebook) that we have 50 quantiles because each webpage is normalized in legth and split into 50 equal sized segments.\n",
    "\n",
    "Now we'll run ths function `read_file_calc_area` on all files. We will use `Pool` to parallelize this step, speeding it up a bit. You can change `n_processes` to whatever number your computer can handle."
   ]
  },
  {
   "cell_type": "code",
   "execution_count": 11,
   "metadata": {},
   "outputs": [
    {
     "name": "stderr",
     "output_type": "stream",
     "text": [
      "100%|██████████| 400/400 [03:51<00:00,  1.73it/s]\n"
     ]
    }
   ],
   "source": [
    "# how many cores do you want to use?\n",
    "# set this to 1 to use a safe and reliable for-loop.\n",
    "n_processes = 4\n",
    "\n",
    "data = []\n",
    "if n_processes >= 1:\n",
    "    with Pool(n_processes) as pool:\n",
    "        for record in tqdm(pool.imap_unordered(read_file_calc_area, \n",
    "                                               metadata_files), \n",
    "                           total=len(metadata_files)):\n",
    "            data.extend(record)\n",
    "else:\n",
    "    # a vanilla for-loop\n",
    "    for fn in tqdm(metadata_files):\n",
    "        record = read_file_calc_area(fn)\n",
    "        data.extend(record)\n",
    "        \n",
    "# put the contents into Pandas\n",
    "df = pd.DataFrame(data)\n",
    "del data;"
   ]
  },
  {
   "cell_type": "markdown",
   "metadata": {},
   "source": [
    "## Parse categorization from labels\n",
    "We need to do some extra column manipulations here, as the parsers in the previous notebook return over 68 different labels for elements we'd find on the search page.\n",
    "\n",
    "These labels are hyphen-delimited, with the first word representing one of our five categories."
   ]
  },
  {
   "cell_type": "code",
   "execution_count": 12,
   "metadata": {},
   "outputs": [],
   "source": [
    "def label_data(category : str) -> str:\n",
    "    \"\"\"Thae label is the first word of each category\"\"\"\n",
    "    label = category.split('-')[0]\n",
    "    return label"
   ]
  },
  {
   "cell_type": "code",
   "execution_count": 13,
   "metadata": {},
   "outputs": [],
   "source": [
    "df['label'] = df.category.apply(label_data)"
   ]
  },
  {
   "cell_type": "code",
   "execution_count": 14,
   "metadata": {},
   "outputs": [
    {
     "data": {
      "text/plain": [
       "link       16606\n",
       "answer      5955\n",
       "organic     5793\n",
       "amp         2221\n",
       "ads          149\n",
       "Name: label, dtype: int64"
      ]
     },
     "execution_count": 14,
     "metadata": {},
     "output_type": "execute_result"
    }
   ],
   "source": [
    "df.label.value_counts()"
   ]
  },
  {
   "cell_type": "markdown",
   "metadata": {},
   "source": [
    "In our methods paper<br>\n",
    "link is called \"Google Products\"<br>\n",
    "answer is called \"Google Answers\"<br>\n",
    "organic is called \"Non-Google\""
   ]
  },
  {
   "cell_type": "code",
   "execution_count": 15,
   "metadata": {},
   "outputs": [
    {
     "data": {
      "text/plain": [
       "30724"
      ]
     },
     "execution_count": 15,
     "metadata": {},
     "output_type": "execute_result"
    }
   ],
   "source": [
    "len(df)"
   ]
  },
  {
   "cell_type": "markdown",
   "metadata": {},
   "source": [
    "## Standardizing labels\n",
    "Here we combine and rename labels to be more legible."
   ]
  },
  {
   "cell_type": "code",
   "execution_count": 16,
   "metadata": {},
   "outputs": [],
   "source": [
    "cat2catstd = {\n",
    "    'organic-search_result_1a' : 'organic-search_result',\n",
    "    'organic-search_result_2a' : 'organic-search_result',\n",
    "    'organic-search_result_2c': 'organic-search_result',\n",
    "    'organic-search_result_1b' : 'organic-search_result',\n",
    "    'organic-search_result_2b': 'organic-search_result',\n",
    "    'amp-search_result_2' : 'amp-search_result',\n",
    "    'amp-search_result_1' : 'amp-search_result',\n",
    "    'amp-search_result_3': 'amp-search_result',\n",
    "    'organic-tweet_2 ': 'organic-tweet',\n",
    "    'answer-expand_1' : 'answer-expand',\n",
    "    'answer-expand_2' :'answer-expand',\n",
    "    'answer-expand_3' :'answer-expand',\n",
    "    'link-google_2' : 'link-google',\n",
    "    'organic-tweet_2' : 'organic-tweet',\n",
    "    'link-button_2' : 'link-button',\n",
    "    'answer-knowledge_panel_answer_1' : 'answer-knowledge_panel_answer',\n",
    "    'answer-knowledge_panel_answer_2' : 'answer-knowledge_panel_answer',\n",
    "    'answer-date_2' : 'answer-date',\n",
    "    'link-youtube_search_result_1a' : 'link-youtube_search_result',\n",
    "    'link-youtube_search_result_2a' : 'link-youtube_search_result',\n",
    "    'link-youtube_search_result_2b' : 'link-youtube_search_result',\n",
    "    'link-flights_1' : 'link-flights',\n",
    "    'link-google_map_2' : 'link-google_map'\n",
    "}"
   ]
  },
  {
   "cell_type": "code",
   "execution_count": 17,
   "metadata": {},
   "outputs": [],
   "source": [
    "df.category.replace(cat2catstd, \n",
    "                    inplace=True)"
   ]
  },
  {
   "cell_type": "code",
   "execution_count": 18,
   "metadata": {},
   "outputs": [
    {
     "data": {
      "text/plain": [
       "55"
      ]
     },
     "execution_count": 18,
     "metadata": {},
     "output_type": "execute_result"
    }
   ],
   "source": [
    "df.category.nunique()"
   ]
  },
  {
   "cell_type": "code",
   "execution_count": 19,
   "metadata": {},
   "outputs": [],
   "source": [
    "link2subcat = {\n",
    "    'link-site_search' : 'google-search',\n",
    "    'link-movie_trailer' : 'google-video',\n",
    "    'link-video_top_answer' : 'google-video',\n",
    "    'link-local_google_maps_results' : 'google-maps',\n",
    "    'link-google_map' : 'google-maps',\n",
    "    'link-img_reverse' : 'google-images',\n",
    "    'link-knowledge_panel_tab' : 'google-knowledge-panel-links',\n",
    "    'link-knowledge_panel_title' : 'google-knowledge-panel-links',\n",
    "    'link-youtube' : 'google-video'\n",
    "}"
   ]
  },
  {
   "cell_type": "code",
   "execution_count": 20,
   "metadata": {},
   "outputs": [],
   "source": [
    "def standardize_category(row) -> str:\n",
    "    '''Logic to assign a standardized category'''\n",
    "    category = row['category']\n",
    "    label = row['label']\n",
    "    \n",
    "    if label == 'amp':\n",
    "        subcat = category\n",
    "    elif label == 'link':\n",
    "        subcat = link2subcat.get(category, 'google-misc')\n",
    "    elif label == 'answer':\n",
    "        if 'expand' in category:\n",
    "            subcat = 'google-expandable-answer'\n",
    "        else:\n",
    "            subcat = 'google-answer'\n",
    "    elif label == 'organic':\n",
    "        subcat = category if category != 'organic-tweet' else 'organic'\n",
    "    if label in ['ads']:\n",
    "        subcat = label\n",
    "    return subcat"
   ]
  },
  {
   "cell_type": "code",
   "execution_count": 21,
   "metadata": {},
   "outputs": [],
   "source": [
    "df['category_standard'] = df.apply(standardize_category, axis=1)"
   ]
  },
  {
   "cell_type": "code",
   "execution_count": 22,
   "metadata": {},
   "outputs": [],
   "source": [
    "# make these google search\n",
    "df.loc[(df.link.str[:9] == '/search?q') &\n",
    "       (df.label == 'link'), \n",
    "       'category_standard'] = 'google-search'"
   ]
  },
  {
   "cell_type": "markdown",
   "metadata": {},
   "source": [
    "Lastly we attribute some temporal metadata..."
   ]
  },
  {
   "cell_type": "code",
   "execution_count": 23,
   "metadata": {},
   "outputs": [],
   "source": [
    "# When was the data processed and collected?\n",
    "df.loc[:, \"date_parsed\"] = pd.datetime.now().strftime('%Y-%m-%d')\n",
    "df.loc[:, \"date_collected\"] = df.fn_input.apply(\n",
    "    lambda x: '-'.join(x.split('iPhone-X/')[-1].split('/')[:3])\n",
    ")"
   ]
  },
  {
   "cell_type": "code",
   "execution_count": 24,
   "metadata": {},
   "outputs": [
    {
     "name": "stdout",
     "output_type": "stream",
     "text": [
      "{\n",
      "  \"text\": \"Channel NewsAsiaSingapore economy expands 0.7% in 2019, slowest in a decade3 hours ago \\u00b7 SINGAPORE: The Singapore economy expanded by 0.7 per cent last year, down from 2018's 3.1 per cent and its slowest in a\\u00a0...\",\n",
      "  \"link\": \"https://www.channelnewsasia.com/news/business/singapore-economy-gdp-2019-q4-mti-12226222\",\n",
      "  \"domain\": \"channelnewsasia.com\",\n",
      "  \"xpath\": \"/html/body/div[10]/div/div[6]/div/div[3]/div/div[6]/div[2]\",\n",
      "  \"category\": \"organic-search_result\",\n",
      "  \"tag\": \"div\",\n",
      "  \"attrs\": {\n",
      "    \"data-hveid\": \"CAUQCQ\"\n",
      "  },\n",
      "  \"dimensions\": {\n",
      "    \"height\": 145.0,\n",
      "    \"width\": 347.0\n",
      "  },\n",
      "  \"location\": {\n",
      "    \"x\": 8,\n",
      "    \"y\": 3308\n",
      "  },\n",
      "  \"area_page\": 50315.0,\n",
      "  \"fn_input\": \"../data/input/google_search/iPhone-X/2020/01/02/Economy-of-Singapore/html/webpage_raw.html\",\n",
      "  \"position_last_element\": 3964.0,\n",
      "  \"fn_metadata\": \"../data_subsample/intermediary/google_search/iPhone-X/2020/01/02/Economy-of-Singapore/json/parsed_meta.jsonl\",\n",
      "  \"q1_area\": 0.0,\n",
      "  \"q2_area\": 0.0,\n",
      "  \"q3_area\": 0.0,\n",
      "  \"q4_area\": 0.0,\n",
      "  \"q5_area\": 0.0,\n",
      "  \"q6_area\": 0.0,\n",
      "  \"q7_area\": 0.0,\n",
      "  \"q8_area\": 0.0,\n",
      "  \"q9_area\": 0.0,\n",
      "  \"q10_area\": 0.0,\n",
      "  \"q11_area\": 0.0,\n",
      "  \"q12_area\": 0.0,\n",
      "  \"q13_area\": 0.0,\n",
      "  \"q14_area\": 0.0,\n",
      "  \"q15_area\": 0.0,\n",
      "  \"q16_area\": 0.0,\n",
      "  \"q17_area\": 0.0,\n",
      "  \"q18_area\": 0.0,\n",
      "  \"q19_area\": 0.0,\n",
      "  \"q20_area\": 0.0,\n",
      "  \"q21_area\": 0.0,\n",
      "  \"q22_area\": 0.0,\n",
      "  \"q23_area\": 0.0,\n",
      "  \"q24_area\": 0.0,\n",
      "  \"q25_area\": 0.0,\n",
      "  \"q26_area\": 0.0,\n",
      "  \"q27_area\": 0.0,\n",
      "  \"q28_area\": 0.0,\n",
      "  \"q29_area\": 0.0,\n",
      "  \"q30_area\": 0.0,\n",
      "  \"q31_area\": 0.0,\n",
      "  \"q32_area\": 0.0,\n",
      "  \"q33_area\": 0.0,\n",
      "  \"q34_area\": 0.0,\n",
      "  \"q35_area\": 0.0,\n",
      "  \"q36_area\": 0.0,\n",
      "  \"q37_area\": 0.0,\n",
      "  \"q38_area\": 0.0,\n",
      "  \"q39_area\": 0.0,\n",
      "  \"q40_area\": 0.0,\n",
      "  \"q41_area\": 0.0,\n",
      "  \"q42_area\": 16433.920000000046,\n",
      "  \"q43_area\": 26399.759999999973,\n",
      "  \"q44_area\": 7481.3199999999815,\n",
      "  \"q45_area\": 0.0,\n",
      "  \"q46_area\": 0.0,\n",
      "  \"q47_area\": 0.0,\n",
      "  \"q48_area\": 0.0,\n",
      "  \"q49_area\": 0.0,\n",
      "  \"q50_area\": 0.0,\n",
      "  \"area_above_the_fold\": 0.0,\n",
      "  \"label\": \"organic\",\n",
      "  \"category_standard\": \"organic-search_result\",\n",
      "  \"date_parsed\": \"2020-07-08\",\n",
      "  \"date_collected\": \"2020-01-02\"\n",
      "}\n"
     ]
    }
   ],
   "source": [
    "# What does a record look like?\n",
    "print(json.dumps(df.iloc[-1].to_dict(), \n",
    "                 indent=2))"
   ]
  },
  {
   "cell_type": "markdown",
   "metadata": {},
   "source": [
    "## Write to JSON\n",
    "With the data pre-processed, we want to save the records for analysis.\n",
    "\n",
    "Normally, something like:<br>\n",
    "```\n",
    "df.to_json(fn_metadata, compression='gzip', \n",
    "           lines=True, orient='records')\n",
    "```\n",
    "\n",
    "...would be sufficient. \n",
    "\n",
    "However, doing so can often crash notebooks when working with a large dataframe.\n",
    "\n",
    "Instead, we will use reliable default libraries like gzip and json to write a new-line delimited json file one record at at time."
   ]
  },
  {
   "cell_type": "code",
   "execution_count": 25,
   "metadata": {},
   "outputs": [
    {
     "name": "stderr",
     "output_type": "stream",
     "text": [
      "100%|██████████| 30724/30724 [00:01<00:00, 17604.68it/s]\n"
     ]
    }
   ],
   "source": [
    "with gzip.open(fn_metadata, 'wb') as f:\n",
    "    for row in tqdm(df.to_dict(orient='records')):\n",
    "        record = json.dumps(row) + '\\n'\n",
    "        record = record.encode('utf-8')\n",
    "        f.write(record)"
   ]
  },
  {
   "cell_type": "markdown",
   "metadata": {},
   "source": [
    "## Metrics of normalized page length"
   ]
  },
  {
   "cell_type": "code",
   "execution_count": 26,
   "metadata": {},
   "outputs": [],
   "source": [
    "from utils.config import height"
   ]
  },
  {
   "cell_type": "code",
   "execution_count": 27,
   "metadata": {},
   "outputs": [
    {
     "data": {
      "text/plain": [
       "652"
      ]
     },
     "execution_count": 27,
     "metadata": {},
     "output_type": "execute_result"
    }
   ],
   "source": [
    "height - header"
   ]
  },
  {
   "cell_type": "code",
   "execution_count": 28,
   "metadata": {},
   "outputs": [],
   "source": [
    "lengths = df.drop_duplicates(subset='fn_input').position_last_element"
   ]
  },
  {
   "cell_type": "code",
   "execution_count": 29,
   "metadata": {},
   "outputs": [
    {
     "data": {
      "text/plain": [
       "count     400.000000\n",
       "mean     4946.667500\n",
       "std      1020.441551\n",
       "min      2265.000000\n",
       "25%      4191.500000\n",
       "50%      4934.500000\n",
       "75%      5683.750000\n",
       "max      7752.000000\n",
       "Name: position_last_element, dtype: float64"
      ]
     },
     "execution_count": 29,
     "metadata": {},
     "output_type": "execute_result"
    }
   ],
   "source": [
    "(lengths - header).describe()"
   ]
  }
 ],
 "metadata": {
  "kernelspec": {
   "display_name": "Python 3",
   "language": "python",
   "name": "python3"
  },
  "language_info": {
   "codemirror_mode": {
    "name": "ipython",
    "version": 3
   },
   "file_extension": ".py",
   "mimetype": "text/x-python",
   "name": "python",
   "nbconvert_exporter": "python",
   "pygments_lexer": "ipython3",
   "version": "3.8.1"
  }
 },
 "nbformat": 4,
 "nbformat_minor": 4
}
