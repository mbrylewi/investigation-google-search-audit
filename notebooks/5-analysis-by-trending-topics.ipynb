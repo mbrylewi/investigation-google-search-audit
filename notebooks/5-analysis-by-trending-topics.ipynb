{
 "cells": [
  {
   "cell_type": "markdown",
   "metadata": {},
   "source": [
    "# Analysis by Google Trends' Topic Subsamples\n",
    "This notebook cuts our dataset into equal-sized sub-samples based on the Google trends' topic (business, entertainment, health, sports, science, top stories) to see how our data varies based on these topics.\n",
    "\n",
    "This notebook really only works using the full dataset `subsample=False`, as each topic subsample is 700 records. \n",
    "\n",
    "\n",
    "Some code we ran to get here includes some top-level analysis of trending searches and the creation of a dataset that contains unqiue search queries per topic (`fn_trends`). \n",
    "\n",
    "We also found that on average search queries were two words and 15 characters."
   ]
  },
  {
   "cell_type": "code",
   "execution_count": 1,
   "metadata": {},
   "outputs": [],
   "source": [
    "import os\n",
    "import random\n",
    "import pandas as pd\n",
    "from tqdm import tqdm\n",
    "from IPython.display import display, HTML"
   ]
  },
  {
   "cell_type": "code",
   "execution_count": 2,
   "metadata": {},
   "outputs": [],
   "source": [
    "# variables\n",
    "use_full_dataset = False\n",
    "data_dir = '../data' if use_full_dataset else '../data_subsample'"
   ]
  },
  {
   "cell_type": "code",
   "execution_count": 3,
   "metadata": {},
   "outputs": [],
   "source": [
    "# inputs\n",
    "fn_metadata = f'{data_dir}/intermediary/element_metadata.jsonl.gz'\n",
    "fn_trends = '../data/input/trending_searches_by_category.csv'\n",
    "\n",
    "# outputs\n",
    "fn_topic = f'{data_dir}/output/tables/topic_area_freq_by_category/'\n",
    "os.makedirs(fn_topic, exist_ok=True)"
   ]
  },
  {
   "cell_type": "code",
   "execution_count": 4,
   "metadata": {},
   "outputs": [],
   "source": [
    "df = pd.read_json(fn_metadata, \n",
    "                  lines=True)\n",
    "\n",
    "trends = pd.read_csv(fn_trends)"
   ]
  },
  {
   "cell_type": "code",
   "execution_count": 5,
   "metadata": {},
   "outputs": [],
   "source": [
    "# create columns that are just the search query.\n",
    "df.loc[:, 'search'] = df.fn_input.apply(lambda x : ('').join(x.split('/html')[0].split('/')[8:]))\n",
    "trends.loc[:, 'search'] = trends['search'].str.replace(' ', '-')"
   ]
  },
  {
   "cell_type": "code",
   "execution_count": 6,
   "metadata": {},
   "outputs": [
    {
     "data": {
      "text/plain": [
       "11648"
      ]
     },
     "execution_count": 6,
     "metadata": {},
     "output_type": "execute_result"
    }
   ],
   "source": [
    "trends.search.nunique()"
   ]
  },
  {
   "cell_type": "code",
   "execution_count": 7,
   "metadata": {},
   "outputs": [],
   "source": [
    "cat2searches = {}\n",
    "for cat in trends.category.unique():\n",
    "    searches = (trends[trends.category == cat].search.tolist())\n",
    "    cat2searches[cat] = searches"
   ]
  },
  {
   "cell_type": "code",
   "execution_count": 8,
   "metadata": {},
   "outputs": [],
   "source": [
    "cat2desc = {\n",
    "    'b' : 'Business',\n",
    "    'e' : 'Entertainment',\n",
    "    'm' : 'Health',\n",
    "    't' : 'Science and Tech',\n",
    "    's' : 'Sports',\n",
    "    'h' : 'Top Stories',\n",
    "    'All' : 'Multiple Categories'\n",
    "}"
   ]
  },
  {
   "cell_type": "code",
   "execution_count": 9,
   "metadata": {},
   "outputs": [],
   "source": [
    "import random\n",
    "from scipy.stats import t"
   ]
  },
  {
   "cell_type": "code",
   "execution_count": 10,
   "metadata": {},
   "outputs": [],
   "source": [
    "cat2df = {}\n",
    "for k, v in cat2searches.items():\n",
    "    _df = df[df.search.isin(v)]\n",
    "    random.seed(303)\n",
    "    sample = _df.fn_input.unique()\n",
    "    random.shuffle(sample)\n",
    "    sample = sample[:700]\n",
    "    cat2df[k] = _df[_df.fn_input.isin(sample)]\n",
    "\n",
    "cat2df['All'] = pd.concat(_df for _df in cat2df.values())"
   ]
  },
  {
   "cell_type": "code",
   "execution_count": 14,
   "metadata": {},
   "outputs": [],
   "source": [
    "label2publabel = {\n",
    "    'link' : 'Google Product',\n",
    "    'answer' : 'Google Answer',\n",
    "    'organic' : 'Non-Google',\n",
    "    'amp' : 'AMP',\n",
    "    'ads' : 'Ads',\n",
    "}"
   ]
  },
  {
   "cell_type": "code",
   "execution_count": 15,
   "metadata": {},
   "outputs": [],
   "source": [
    "labels = [\n",
    "    'organic',\n",
    "    'amp',\n",
    "    'link',\n",
    "    'answer',\n",
    "    'ads'\n",
    "]"
   ]
  },
  {
   "cell_type": "code",
   "execution_count": 16,
   "metadata": {},
   "outputs": [
    {
     "name": "stdout",
     "output_type": "stream",
     "text": [
      "Business (N=700)\n"
     ]
    },
    {
     "data": {
      "text/html": [
       "<table border=\"1\" class=\"dataframe\">\n",
       "  <thead>\n",
       "    <tr>\n",
       "      <th></th>\n",
       "      <th colspan=\"2\" halign=\"left\">Top of page</th>\n",
       "      <th colspan=\"2\" halign=\"left\">First full page</th>\n",
       "    </tr>\n",
       "    <tr>\n",
       "      <th></th>\n",
       "      <th>area</th>\n",
       "      <th>freq</th>\n",
       "      <th>area</th>\n",
       "      <th>freq</th>\n",
       "    </tr>\n",
       "  </thead>\n",
       "  <tbody>\n",
       "    <tr>\n",
       "      <th>Non-Google</th>\n",
       "      <td>32.6%</td>\n",
       "      <td>84.4%</td>\n",
       "      <td>49.9%</td>\n",
       "      <td>100.0%</td>\n",
       "    </tr>\n",
       "    <tr>\n",
       "      <th>AMP</th>\n",
       "      <td>4.7%</td>\n",
       "      <td>10.3%</td>\n",
       "      <td>8.7%</td>\n",
       "      <td>65.9%</td>\n",
       "    </tr>\n",
       "    <tr>\n",
       "      <th>Google Product</th>\n",
       "      <td>27.8%</td>\n",
       "      <td>83.6%</td>\n",
       "      <td>25.5%</td>\n",
       "      <td>100.0%</td>\n",
       "    </tr>\n",
       "    <tr>\n",
       "      <th>Google Answer</th>\n",
       "      <td>19.5%</td>\n",
       "      <td>64.1%</td>\n",
       "      <td>13.2%</td>\n",
       "      <td>99.3%</td>\n",
       "    </tr>\n",
       "    <tr>\n",
       "      <th>Ads</th>\n",
       "      <td>15.4%</td>\n",
       "      <td>17.4%</td>\n",
       "      <td>2.7%</td>\n",
       "      <td>18.9%</td>\n",
       "    </tr>\n",
       "  </tbody>\n",
       "</table>"
      ],
      "text/plain": [
       "<IPython.core.display.HTML object>"
      ]
     },
     "metadata": {},
     "output_type": "display_data"
    },
    {
     "name": "stdout",
     "output_type": "stream",
     "text": [
      "*******************************************************************************\n",
      "Health (N=700)\n"
     ]
    },
    {
     "data": {
      "text/html": [
       "<table border=\"1\" class=\"dataframe\">\n",
       "  <thead>\n",
       "    <tr>\n",
       "      <th></th>\n",
       "      <th colspan=\"2\" halign=\"left\">Top of page</th>\n",
       "      <th colspan=\"2\" halign=\"left\">First full page</th>\n",
       "    </tr>\n",
       "    <tr>\n",
       "      <th></th>\n",
       "      <th>area</th>\n",
       "      <th>freq</th>\n",
       "      <th>area</th>\n",
       "      <th>freq</th>\n",
       "    </tr>\n",
       "  </thead>\n",
       "  <tbody>\n",
       "    <tr>\n",
       "      <th>Non-Google</th>\n",
       "      <td>17.2%</td>\n",
       "      <td>79.6%</td>\n",
       "      <td>53.9%</td>\n",
       "      <td>100.0%</td>\n",
       "    </tr>\n",
       "    <tr>\n",
       "      <th>AMP</th>\n",
       "      <td>1.7%</td>\n",
       "      <td>3.4%</td>\n",
       "      <td>5.3%</td>\n",
       "      <td>52.6%</td>\n",
       "    </tr>\n",
       "    <tr>\n",
       "      <th>Google Product</th>\n",
       "      <td>29.2%</td>\n",
       "      <td>87.1%</td>\n",
       "      <td>20.5%</td>\n",
       "      <td>100.0%</td>\n",
       "    </tr>\n",
       "    <tr>\n",
       "      <th>Google Answer</th>\n",
       "      <td>43.5%</td>\n",
       "      <td>84.7%</td>\n",
       "      <td>18.9%</td>\n",
       "      <td>98.7%</td>\n",
       "    </tr>\n",
       "    <tr>\n",
       "      <th>Ads</th>\n",
       "      <td>8.5%</td>\n",
       "      <td>9.0%</td>\n",
       "      <td>1.4%</td>\n",
       "      <td>9.9%</td>\n",
       "    </tr>\n",
       "  </tbody>\n",
       "</table>"
      ],
      "text/plain": [
       "<IPython.core.display.HTML object>"
      ]
     },
     "metadata": {},
     "output_type": "display_data"
    },
    {
     "name": "stdout",
     "output_type": "stream",
     "text": [
      "*******************************************************************************\n",
      "Entertainment (N=700)\n"
     ]
    },
    {
     "data": {
      "text/html": [
       "<table border=\"1\" class=\"dataframe\">\n",
       "  <thead>\n",
       "    <tr>\n",
       "      <th></th>\n",
       "      <th colspan=\"2\" halign=\"left\">Top of page</th>\n",
       "      <th colspan=\"2\" halign=\"left\">First full page</th>\n",
       "    </tr>\n",
       "    <tr>\n",
       "      <th></th>\n",
       "      <th>area</th>\n",
       "      <th>freq</th>\n",
       "      <th>area</th>\n",
       "      <th>freq</th>\n",
       "    </tr>\n",
       "  </thead>\n",
       "  <tbody>\n",
       "    <tr>\n",
       "      <th>Non-Google</th>\n",
       "      <td>16.7%</td>\n",
       "      <td>90.4%</td>\n",
       "      <td>41.6%</td>\n",
       "      <td>100.0%</td>\n",
       "    </tr>\n",
       "    <tr>\n",
       "      <th>AMP</th>\n",
       "      <td>12.6%</td>\n",
       "      <td>25.7%</td>\n",
       "      <td>15.6%</td>\n",
       "      <td>90.3%</td>\n",
       "    </tr>\n",
       "    <tr>\n",
       "      <th>Google Product</th>\n",
       "      <td>42.7%</td>\n",
       "      <td>97.1%</td>\n",
       "      <td>31.0%</td>\n",
       "      <td>100.0%</td>\n",
       "    </tr>\n",
       "    <tr>\n",
       "      <th>Google Answer</th>\n",
       "      <td>26.7%</td>\n",
       "      <td>83.4%</td>\n",
       "      <td>11.7%</td>\n",
       "      <td>99.9%</td>\n",
       "    </tr>\n",
       "    <tr>\n",
       "      <th>Ads</th>\n",
       "      <td>1.2%</td>\n",
       "      <td>1.7%</td>\n",
       "      <td>0.2%</td>\n",
       "      <td>2.4%</td>\n",
       "    </tr>\n",
       "  </tbody>\n",
       "</table>"
      ],
      "text/plain": [
       "<IPython.core.display.HTML object>"
      ]
     },
     "metadata": {},
     "output_type": "display_data"
    },
    {
     "name": "stdout",
     "output_type": "stream",
     "text": [
      "*******************************************************************************\n",
      "Science and Tech (N=700)\n"
     ]
    },
    {
     "data": {
      "text/html": [
       "<table border=\"1\" class=\"dataframe\">\n",
       "  <thead>\n",
       "    <tr>\n",
       "      <th></th>\n",
       "      <th colspan=\"2\" halign=\"left\">Top of page</th>\n",
       "      <th colspan=\"2\" halign=\"left\">First full page</th>\n",
       "    </tr>\n",
       "    <tr>\n",
       "      <th></th>\n",
       "      <th>area</th>\n",
       "      <th>freq</th>\n",
       "      <th>area</th>\n",
       "      <th>freq</th>\n",
       "    </tr>\n",
       "  </thead>\n",
       "  <tbody>\n",
       "    <tr>\n",
       "      <th>Non-Google</th>\n",
       "      <td>24.6%</td>\n",
       "      <td>88.6%</td>\n",
       "      <td>47.0%</td>\n",
       "      <td>100.0%</td>\n",
       "    </tr>\n",
       "    <tr>\n",
       "      <th>AMP</th>\n",
       "      <td>5.9%</td>\n",
       "      <td>11.6%</td>\n",
       "      <td>10.8%</td>\n",
       "      <td>79.0%</td>\n",
       "    </tr>\n",
       "    <tr>\n",
       "      <th>Google Product</th>\n",
       "      <td>33.8%</td>\n",
       "      <td>88.6%</td>\n",
       "      <td>27.2%</td>\n",
       "      <td>100.0%</td>\n",
       "    </tr>\n",
       "    <tr>\n",
       "      <th>Google Answer</th>\n",
       "      <td>23.6%</td>\n",
       "      <td>69.3%</td>\n",
       "      <td>13.0%</td>\n",
       "      <td>99.6%</td>\n",
       "    </tr>\n",
       "    <tr>\n",
       "      <th>Ads</th>\n",
       "      <td>12.1%</td>\n",
       "      <td>15.3%</td>\n",
       "      <td>2.0%</td>\n",
       "      <td>19.3%</td>\n",
       "    </tr>\n",
       "  </tbody>\n",
       "</table>"
      ],
      "text/plain": [
       "<IPython.core.display.HTML object>"
      ]
     },
     "metadata": {},
     "output_type": "display_data"
    },
    {
     "name": "stdout",
     "output_type": "stream",
     "text": [
      "*******************************************************************************\n",
      "Sports (N=700)\n"
     ]
    },
    {
     "data": {
      "text/html": [
       "<table border=\"1\" class=\"dataframe\">\n",
       "  <thead>\n",
       "    <tr>\n",
       "      <th></th>\n",
       "      <th colspan=\"2\" halign=\"left\">Top of page</th>\n",
       "      <th colspan=\"2\" halign=\"left\">First full page</th>\n",
       "    </tr>\n",
       "    <tr>\n",
       "      <th></th>\n",
       "      <th>area</th>\n",
       "      <th>freq</th>\n",
       "      <th>area</th>\n",
       "      <th>freq</th>\n",
       "    </tr>\n",
       "  </thead>\n",
       "  <tbody>\n",
       "    <tr>\n",
       "      <th>Non-Google</th>\n",
       "      <td>14.8%</td>\n",
       "      <td>78.6%</td>\n",
       "      <td>45.2%</td>\n",
       "      <td>100.0%</td>\n",
       "    </tr>\n",
       "    <tr>\n",
       "      <th>AMP</th>\n",
       "      <td>18.0%</td>\n",
       "      <td>32.6%</td>\n",
       "      <td>15.4%</td>\n",
       "      <td>85.7%</td>\n",
       "    </tr>\n",
       "    <tr>\n",
       "      <th>Google Product</th>\n",
       "      <td>46.7%</td>\n",
       "      <td>97.3%</td>\n",
       "      <td>27.4%</td>\n",
       "      <td>100.0%</td>\n",
       "    </tr>\n",
       "    <tr>\n",
       "      <th>Google Answer</th>\n",
       "      <td>19.3%</td>\n",
       "      <td>64.4%</td>\n",
       "      <td>11.8%</td>\n",
       "      <td>99.6%</td>\n",
       "    </tr>\n",
       "    <tr>\n",
       "      <th>Ads</th>\n",
       "      <td>1.3%</td>\n",
       "      <td>2.4%</td>\n",
       "      <td>0.2%</td>\n",
       "      <td>2.7%</td>\n",
       "    </tr>\n",
       "  </tbody>\n",
       "</table>"
      ],
      "text/plain": [
       "<IPython.core.display.HTML object>"
      ]
     },
     "metadata": {},
     "output_type": "display_data"
    },
    {
     "name": "stdout",
     "output_type": "stream",
     "text": [
      "*******************************************************************************\n",
      "Top Stories (N=700)\n"
     ]
    },
    {
     "data": {
      "text/html": [
       "<table border=\"1\" class=\"dataframe\">\n",
       "  <thead>\n",
       "    <tr>\n",
       "      <th></th>\n",
       "      <th colspan=\"2\" halign=\"left\">Top of page</th>\n",
       "      <th colspan=\"2\" halign=\"left\">First full page</th>\n",
       "    </tr>\n",
       "    <tr>\n",
       "      <th></th>\n",
       "      <th>area</th>\n",
       "      <th>freq</th>\n",
       "      <th>area</th>\n",
       "      <th>freq</th>\n",
       "    </tr>\n",
       "  </thead>\n",
       "  <tbody>\n",
       "    <tr>\n",
       "      <th>Non-Google</th>\n",
       "      <td>18.2%</td>\n",
       "      <td>80.1%</td>\n",
       "      <td>45.3%</td>\n",
       "      <td>100.0%</td>\n",
       "    </tr>\n",
       "    <tr>\n",
       "      <th>AMP</th>\n",
       "      <td>18.3%</td>\n",
       "      <td>29.4%</td>\n",
       "      <td>16.6%</td>\n",
       "      <td>87.3%</td>\n",
       "    </tr>\n",
       "    <tr>\n",
       "      <th>Google Product</th>\n",
       "      <td>36.8%</td>\n",
       "      <td>91.4%</td>\n",
       "      <td>25.2%</td>\n",
       "      <td>100.0%</td>\n",
       "    </tr>\n",
       "    <tr>\n",
       "      <th>Google Answer</th>\n",
       "      <td>24.2%</td>\n",
       "      <td>66.7%</td>\n",
       "      <td>12.5%</td>\n",
       "      <td>98.1%</td>\n",
       "    </tr>\n",
       "    <tr>\n",
       "      <th>Ads</th>\n",
       "      <td>2.5%</td>\n",
       "      <td>3.0%</td>\n",
       "      <td>0.4%</td>\n",
       "      <td>3.1%</td>\n",
       "    </tr>\n",
       "  </tbody>\n",
       "</table>"
      ],
      "text/plain": [
       "<IPython.core.display.HTML object>"
      ]
     },
     "metadata": {},
     "output_type": "display_data"
    },
    {
     "name": "stdout",
     "output_type": "stream",
     "text": [
      "*******************************************************************************\n",
      "Multiple Categories (N=4,200)\n"
     ]
    },
    {
     "data": {
      "text/html": [
       "<table border=\"1\" class=\"dataframe\">\n",
       "  <thead>\n",
       "    <tr>\n",
       "      <th></th>\n",
       "      <th colspan=\"2\" halign=\"left\">Top of page</th>\n",
       "      <th colspan=\"2\" halign=\"left\">First full page</th>\n",
       "    </tr>\n",
       "    <tr>\n",
       "      <th></th>\n",
       "      <th>area</th>\n",
       "      <th>freq</th>\n",
       "      <th>area</th>\n",
       "      <th>freq</th>\n",
       "    </tr>\n",
       "  </thead>\n",
       "  <tbody>\n",
       "    <tr>\n",
       "      <th>Non-Google</th>\n",
       "      <td>20.7%</td>\n",
       "      <td>83.6%</td>\n",
       "      <td>46.9%</td>\n",
       "      <td>100.0%</td>\n",
       "    </tr>\n",
       "    <tr>\n",
       "      <th>AMP</th>\n",
       "      <td>10.3%</td>\n",
       "      <td>18.8%</td>\n",
       "      <td>12.2%</td>\n",
       "      <td>76.8%</td>\n",
       "    </tr>\n",
       "    <tr>\n",
       "      <th>Google Product</th>\n",
       "      <td>36.3%</td>\n",
       "      <td>90.9%</td>\n",
       "      <td>26.3%</td>\n",
       "      <td>100.0%</td>\n",
       "    </tr>\n",
       "    <tr>\n",
       "      <th>Google Answer</th>\n",
       "      <td>25.9%</td>\n",
       "      <td>72.1%</td>\n",
       "      <td>13.4%</td>\n",
       "      <td>99.2%</td>\n",
       "    </tr>\n",
       "    <tr>\n",
       "      <th>Ads</th>\n",
       "      <td>6.8%</td>\n",
       "      <td>8.1%</td>\n",
       "      <td>1.1%</td>\n",
       "      <td>9.4%</td>\n",
       "    </tr>\n",
       "  </tbody>\n",
       "</table>"
      ],
      "text/plain": [
       "<IPython.core.display.HTML object>"
      ]
     },
     "metadata": {},
     "output_type": "display_data"
    },
    {
     "name": "stdout",
     "output_type": "stream",
     "text": [
      "*******************************************************************************\n"
     ]
    }
   ],
   "source": [
    "cat2df2 = {}\n",
    "for cat, _df in cat2df.items():\n",
    "    print(f\"{cat2desc.get(cat, cat)} (N={_df.fn_input.nunique():,})\")\n",
    "    total_area = _df[\"area_above_the_fold\"].sum()\n",
    "    total_area_fp = _df['area_page'].sum()\n",
    "    n_pages = _df.fn_input.nunique()\n",
    "    data = {}\n",
    "    for label in labels:\n",
    "        __df = _df[_df.label == label]\n",
    "        area = (__df[\"area_above_the_fold\"].sum() / total_area)\n",
    "        area_page = (__df['area_page'].sum() / total_area_fp)\n",
    "        freq = __df[__df[\"area_above_the_fold\"] != 0].fn_input.nunique() / n_pages\n",
    "        freq_page = __df[__df['area_page'] != 0].fn_input.nunique() /n_pages\n",
    "        data[label2publabel.get(label,label)] = {\n",
    "            ('Top of page', 'area') : area,\n",
    "            ('Top of page', 'freq') : freq,\n",
    "            ('First full page', 'area') : area_page,\n",
    "            ('First full page', 'freq') : freq_page,\n",
    "        }\n",
    "\n",
    "    breakdown = pd.DataFrame(data).T\n",
    "    breakdown.columns = pd.MultiIndex.from_tuples([   \n",
    "        ('Top of page', 'area'),\n",
    "        ('Top of page', 'freq'),\n",
    "        ('First full page', 'area'),\n",
    "        ('First full page', 'freq')\n",
    "    ])\n",
    "    res = (breakdown * 100).round(1).astype(str) + '%'\n",
    "    display(HTML(res.to_html()))\n",
    "    \n",
    "    # save it\n",
    "    fn_topic_ = fn_topic + f'{cat2desc.get(cat)}.csv'\n",
    "    breakdown.to_csv(fn_topic_)\n",
    "    \n",
    "    cat2df2[cat] = breakdown\n",
    "    print(\"*\" * 79)"
   ]
  },
  {
   "cell_type": "code",
   "execution_count": 17,
   "metadata": {},
   "outputs": [],
   "source": [
    "res = (breakdown * 100).round(1).astype(str) + '%'"
   ]
  },
  {
   "cell_type": "markdown",
   "metadata": {},
   "source": [
    "## Deltas\n",
    "For each topic, we can see how each metric varies from \"All\"."
   ]
  },
  {
   "cell_type": "code",
   "execution_count": 18,
   "metadata": {},
   "outputs": [
    {
     "name": "stdout",
     "output_type": "stream",
     "text": [
      "Business\n"
     ]
    },
    {
     "data": {
      "text/html": [
       "<table border=\"1\" class=\"dataframe\">\n",
       "  <thead>\n",
       "    <tr>\n",
       "      <th></th>\n",
       "      <th colspan=\"2\" halign=\"left\">Top of page</th>\n",
       "      <th colspan=\"2\" halign=\"left\">First full page</th>\n",
       "    </tr>\n",
       "    <tr>\n",
       "      <th></th>\n",
       "      <th>area</th>\n",
       "      <th>freq</th>\n",
       "      <th>area</th>\n",
       "      <th>freq</th>\n",
       "    </tr>\n",
       "  </thead>\n",
       "  <tbody>\n",
       "    <tr>\n",
       "      <th>Non-Google</th>\n",
       "      <td>11.9%</td>\n",
       "      <td>0.8%</td>\n",
       "      <td>3.0%</td>\n",
       "      <td>0.0%</td>\n",
       "    </tr>\n",
       "    <tr>\n",
       "      <th>AMP</th>\n",
       "      <td>-5.6%</td>\n",
       "      <td>-8.5%</td>\n",
       "      <td>-3.5%</td>\n",
       "      <td>-10.9%</td>\n",
       "    </tr>\n",
       "    <tr>\n",
       "      <th>Google Product</th>\n",
       "      <td>-8.5%</td>\n",
       "      <td>-7.3%</td>\n",
       "      <td>-0.8%</td>\n",
       "      <td>0.0%</td>\n",
       "    </tr>\n",
       "    <tr>\n",
       "      <th>Google Answer</th>\n",
       "      <td>-6.4%</td>\n",
       "      <td>-8.0%</td>\n",
       "      <td>-0.2%</td>\n",
       "      <td>0.1%</td>\n",
       "    </tr>\n",
       "    <tr>\n",
       "      <th>Ads</th>\n",
       "      <td>8.6%</td>\n",
       "      <td>9.3%</td>\n",
       "      <td>1.6%</td>\n",
       "      <td>9.5%</td>\n",
       "    </tr>\n",
       "  </tbody>\n",
       "</table>"
      ],
      "text/plain": [
       "<IPython.core.display.HTML object>"
      ]
     },
     "metadata": {},
     "output_type": "display_data"
    },
    {
     "name": "stdout",
     "output_type": "stream",
     "text": [
      "*******************************************************************************\n",
      "Health\n"
     ]
    },
    {
     "data": {
      "text/html": [
       "<table border=\"1\" class=\"dataframe\">\n",
       "  <thead>\n",
       "    <tr>\n",
       "      <th></th>\n",
       "      <th colspan=\"2\" halign=\"left\">Top of page</th>\n",
       "      <th colspan=\"2\" halign=\"left\">First full page</th>\n",
       "    </tr>\n",
       "    <tr>\n",
       "      <th></th>\n",
       "      <th>area</th>\n",
       "      <th>freq</th>\n",
       "      <th>area</th>\n",
       "      <th>freq</th>\n",
       "    </tr>\n",
       "  </thead>\n",
       "  <tbody>\n",
       "    <tr>\n",
       "      <th>Non-Google</th>\n",
       "      <td>-3.5%</td>\n",
       "      <td>-4.0%</td>\n",
       "      <td>7.0%</td>\n",
       "      <td>0.0%</td>\n",
       "    </tr>\n",
       "    <tr>\n",
       "      <th>AMP</th>\n",
       "      <td>-8.6%</td>\n",
       "      <td>-15.4%</td>\n",
       "      <td>-6.9%</td>\n",
       "      <td>-24.2%</td>\n",
       "    </tr>\n",
       "    <tr>\n",
       "      <th>Google Product</th>\n",
       "      <td>-7.1%</td>\n",
       "      <td>-3.7%</td>\n",
       "      <td>-5.8%</td>\n",
       "      <td>0.0%</td>\n",
       "    </tr>\n",
       "    <tr>\n",
       "      <th>Google Answer</th>\n",
       "      <td>17.6%</td>\n",
       "      <td>12.6%</td>\n",
       "      <td>5.5%</td>\n",
       "      <td>-0.5%</td>\n",
       "    </tr>\n",
       "    <tr>\n",
       "      <th>Ads</th>\n",
       "      <td>1.7%</td>\n",
       "      <td>0.9%</td>\n",
       "      <td>0.3%</td>\n",
       "      <td>0.5%</td>\n",
       "    </tr>\n",
       "  </tbody>\n",
       "</table>"
      ],
      "text/plain": [
       "<IPython.core.display.HTML object>"
      ]
     },
     "metadata": {},
     "output_type": "display_data"
    },
    {
     "name": "stdout",
     "output_type": "stream",
     "text": [
      "*******************************************************************************\n",
      "Entertainment\n"
     ]
    },
    {
     "data": {
      "text/html": [
       "<table border=\"1\" class=\"dataframe\">\n",
       "  <thead>\n",
       "    <tr>\n",
       "      <th></th>\n",
       "      <th colspan=\"2\" halign=\"left\">Top of page</th>\n",
       "      <th colspan=\"2\" halign=\"left\">First full page</th>\n",
       "    </tr>\n",
       "    <tr>\n",
       "      <th></th>\n",
       "      <th>area</th>\n",
       "      <th>freq</th>\n",
       "      <th>area</th>\n",
       "      <th>freq</th>\n",
       "    </tr>\n",
       "  </thead>\n",
       "  <tbody>\n",
       "    <tr>\n",
       "      <th>Non-Google</th>\n",
       "      <td>-4.0%</td>\n",
       "      <td>6.8%</td>\n",
       "      <td>-5.4%</td>\n",
       "      <td>0.0%</td>\n",
       "    </tr>\n",
       "    <tr>\n",
       "      <th>AMP</th>\n",
       "      <td>2.3%</td>\n",
       "      <td>6.9%</td>\n",
       "      <td>3.3%</td>\n",
       "      <td>13.5%</td>\n",
       "    </tr>\n",
       "    <tr>\n",
       "      <th>Google Product</th>\n",
       "      <td>6.4%</td>\n",
       "      <td>6.3%</td>\n",
       "      <td>4.7%</td>\n",
       "      <td>0.0%</td>\n",
       "    </tr>\n",
       "    <tr>\n",
       "      <th>Google Answer</th>\n",
       "      <td>0.8%</td>\n",
       "      <td>11.3%</td>\n",
       "      <td>-1.7%</td>\n",
       "      <td>0.7%</td>\n",
       "    </tr>\n",
       "    <tr>\n",
       "      <th>Ads</th>\n",
       "      <td>-5.6%</td>\n",
       "      <td>-6.4%</td>\n",
       "      <td>-0.9%</td>\n",
       "      <td>-7.0%</td>\n",
       "    </tr>\n",
       "  </tbody>\n",
       "</table>"
      ],
      "text/plain": [
       "<IPython.core.display.HTML object>"
      ]
     },
     "metadata": {},
     "output_type": "display_data"
    },
    {
     "name": "stdout",
     "output_type": "stream",
     "text": [
      "*******************************************************************************\n",
      "Science and Tech\n"
     ]
    },
    {
     "data": {
      "text/html": [
       "<table border=\"1\" class=\"dataframe\">\n",
       "  <thead>\n",
       "    <tr>\n",
       "      <th></th>\n",
       "      <th colspan=\"2\" halign=\"left\">Top of page</th>\n",
       "      <th colspan=\"2\" halign=\"left\">First full page</th>\n",
       "    </tr>\n",
       "    <tr>\n",
       "      <th></th>\n",
       "      <th>area</th>\n",
       "      <th>freq</th>\n",
       "      <th>area</th>\n",
       "      <th>freq</th>\n",
       "    </tr>\n",
       "  </thead>\n",
       "  <tbody>\n",
       "    <tr>\n",
       "      <th>Non-Google</th>\n",
       "      <td>3.9%</td>\n",
       "      <td>5.0%</td>\n",
       "      <td>0.0%</td>\n",
       "      <td>0.0%</td>\n",
       "    </tr>\n",
       "    <tr>\n",
       "      <th>AMP</th>\n",
       "      <td>-4.4%</td>\n",
       "      <td>-7.3%</td>\n",
       "      <td>-1.5%</td>\n",
       "      <td>2.2%</td>\n",
       "    </tr>\n",
       "    <tr>\n",
       "      <th>Google Product</th>\n",
       "      <td>-2.5%</td>\n",
       "      <td>-2.3%</td>\n",
       "      <td>0.9%</td>\n",
       "      <td>0.0%</td>\n",
       "    </tr>\n",
       "    <tr>\n",
       "      <th>Google Answer</th>\n",
       "      <td>-2.3%</td>\n",
       "      <td>-2.8%</td>\n",
       "      <td>-0.4%</td>\n",
       "      <td>0.4%</td>\n",
       "    </tr>\n",
       "    <tr>\n",
       "      <th>Ads</th>\n",
       "      <td>5.3%</td>\n",
       "      <td>7.1%</td>\n",
       "      <td>0.9%</td>\n",
       "      <td>9.9%</td>\n",
       "    </tr>\n",
       "  </tbody>\n",
       "</table>"
      ],
      "text/plain": [
       "<IPython.core.display.HTML object>"
      ]
     },
     "metadata": {},
     "output_type": "display_data"
    },
    {
     "name": "stdout",
     "output_type": "stream",
     "text": [
      "*******************************************************************************\n",
      "Sports\n"
     ]
    },
    {
     "data": {
      "text/html": [
       "<table border=\"1\" class=\"dataframe\">\n",
       "  <thead>\n",
       "    <tr>\n",
       "      <th></th>\n",
       "      <th colspan=\"2\" halign=\"left\">Top of page</th>\n",
       "      <th colspan=\"2\" halign=\"left\">First full page</th>\n",
       "    </tr>\n",
       "    <tr>\n",
       "      <th></th>\n",
       "      <th>area</th>\n",
       "      <th>freq</th>\n",
       "      <th>area</th>\n",
       "      <th>freq</th>\n",
       "    </tr>\n",
       "  </thead>\n",
       "  <tbody>\n",
       "    <tr>\n",
       "      <th>Non-Google</th>\n",
       "      <td>-5.9%</td>\n",
       "      <td>-5.0%</td>\n",
       "      <td>-1.7%</td>\n",
       "      <td>0.0%</td>\n",
       "    </tr>\n",
       "    <tr>\n",
       "      <th>AMP</th>\n",
       "      <td>7.7%</td>\n",
       "      <td>13.7%</td>\n",
       "      <td>3.1%</td>\n",
       "      <td>8.9%</td>\n",
       "    </tr>\n",
       "    <tr>\n",
       "      <th>Google Product</th>\n",
       "      <td>10.4%</td>\n",
       "      <td>6.4%</td>\n",
       "      <td>1.1%</td>\n",
       "      <td>0.0%</td>\n",
       "    </tr>\n",
       "    <tr>\n",
       "      <th>Google Answer</th>\n",
       "      <td>-6.6%</td>\n",
       "      <td>-7.7%</td>\n",
       "      <td>-1.6%</td>\n",
       "      <td>0.4%</td>\n",
       "    </tr>\n",
       "    <tr>\n",
       "      <th>Ads</th>\n",
       "      <td>-5.5%</td>\n",
       "      <td>-5.7%</td>\n",
       "      <td>-0.9%</td>\n",
       "      <td>-6.7%</td>\n",
       "    </tr>\n",
       "  </tbody>\n",
       "</table>"
      ],
      "text/plain": [
       "<IPython.core.display.HTML object>"
      ]
     },
     "metadata": {},
     "output_type": "display_data"
    },
    {
     "name": "stdout",
     "output_type": "stream",
     "text": [
      "*******************************************************************************\n",
      "Top Stories\n"
     ]
    },
    {
     "data": {
      "text/html": [
       "<table border=\"1\" class=\"dataframe\">\n",
       "  <thead>\n",
       "    <tr>\n",
       "      <th></th>\n",
       "      <th colspan=\"2\" halign=\"left\">Top of page</th>\n",
       "      <th colspan=\"2\" halign=\"left\">First full page</th>\n",
       "    </tr>\n",
       "    <tr>\n",
       "      <th></th>\n",
       "      <th>area</th>\n",
       "      <th>freq</th>\n",
       "      <th>area</th>\n",
       "      <th>freq</th>\n",
       "    </tr>\n",
       "  </thead>\n",
       "  <tbody>\n",
       "    <tr>\n",
       "      <th>Non-Google</th>\n",
       "      <td>-2.5%</td>\n",
       "      <td>-3.5%</td>\n",
       "      <td>-1.6%</td>\n",
       "      <td>0.0%</td>\n",
       "    </tr>\n",
       "    <tr>\n",
       "      <th>AMP</th>\n",
       "      <td>8.1%</td>\n",
       "      <td>10.6%</td>\n",
       "      <td>4.3%</td>\n",
       "      <td>10.5%</td>\n",
       "    </tr>\n",
       "    <tr>\n",
       "      <th>Google Product</th>\n",
       "      <td>0.5%</td>\n",
       "      <td>0.6%</td>\n",
       "      <td>-1.1%</td>\n",
       "      <td>0.0%</td>\n",
       "    </tr>\n",
       "    <tr>\n",
       "      <th>Google Answer</th>\n",
       "      <td>-1.7%</td>\n",
       "      <td>-5.4%</td>\n",
       "      <td>-0.9%</td>\n",
       "      <td>-1.0%</td>\n",
       "    </tr>\n",
       "    <tr>\n",
       "      <th>Ads</th>\n",
       "      <td>-4.3%</td>\n",
       "      <td>-5.1%</td>\n",
       "      <td>-0.7%</td>\n",
       "      <td>-6.2%</td>\n",
       "    </tr>\n",
       "  </tbody>\n",
       "</table>"
      ],
      "text/plain": [
       "<IPython.core.display.HTML object>"
      ]
     },
     "metadata": {},
     "output_type": "display_data"
    },
    {
     "name": "stdout",
     "output_type": "stream",
     "text": [
      "*******************************************************************************\n"
     ]
    }
   ],
   "source": [
    "for cat, _df in cat2df2.items():\n",
    "    if cat != 'All':\n",
    "        print(f\"{cat2desc.get(cat, cat)}\")\n",
    "        diff = _df - cat2df2['All']\n",
    "        res = (diff * 100).round(1).astype(str) + '%'\n",
    "        display(HTML(res.to_html()))\n",
    "        print(\"*\" * 79)"
   ]
  }
 ],
 "metadata": {
  "kernelspec": {
   "display_name": "Python 3",
   "language": "python",
   "name": "python3"
  },
  "language_info": {
   "codemirror_mode": {
    "name": "ipython",
    "version": 3
   },
   "file_extension": ".py",
   "mimetype": "text/x-python",
   "name": "python",
   "nbconvert_exporter": "python",
   "pygments_lexer": "ipython3",
   "version": "3.8.1"
  }
 },
 "nbformat": 4,
 "nbformat_minor": 4
}
